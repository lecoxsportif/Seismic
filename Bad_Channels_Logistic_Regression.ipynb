{
 "cells": [
  {
   "cell_type": "markdown",
   "metadata": {},
   "source": [
    "**Logistic Regression Model for Predicting Bad Hydrophone Channels**"
   ]
  },
  {
   "cell_type": "markdown",
   "metadata": {},
   "source": [
    "The scope of this project is to properly model and train an algorithm that is able to identify bad receivers.\n",
    "\n",
    "The data contains different receiver statistics which include some instrumentational feedback (capacitance, leakage, sensitivity, etc..) decoded from original SEGD field data. There is also some computed statistics such as, root mean square of (noise) amplitude, standard deviation of RMS, etc.., which would traditionally be used to \"pick bad channels\") and also some user defined target variable (identified bad receivers)."
   ]
  },
  {
   "cell_type": "code",
   "execution_count": 1,
   "metadata": {},
   "outputs": [],
   "source": [
    "import pandas as pd\n",
    "import csv\n",
    "import matplotlib.pyplot as plt\n",
    "import numpy as np\n",
    "import seaborn as sns; sns.set()\n",
    "\n",
    "from pandas import DataFrame \n",
    "from sklearn.preprocessing import StandardScaler, normalize\n",
    "from sklearn.decomposition import PCA\n",
    "from sklearn.mixture import GaussianMixture \n",
    "from sklearn.metrics import silhouette_score\n",
    "from sklearn.model_selection import train_test_split\n",
    "from sklearn import metrics\n",
    "import matplotlib.ticker as ticker\n",
    "from sklearn import preprocessing"
   ]
  },
  {
   "cell_type": "markdown",
   "metadata": {},
   "source": [
    "List files in directory to use:"
   ]
  },
  {
   "cell_type": "code",
   "execution_count": 2,
   "metadata": {},
   "outputs": [
    {
     "name": "stdout",
     "output_type": "stream",
     "text": [
      "['.git', '001_amp_maps_2890.csv', '002_amp_maps_3422.csv', '003_amp_maps_2918.csv', '004_amp_maps_3450.csv', '005_amp_maps_2946.csv', '006_amp_maps_3478.csv', '008_P_amp_maps_2265P01.csv', 'Bad_Channels.ipynb', 'Bad_Channels_Logistic_Regression.ipynb', 'decode_listing_features_001.csv', 'decode_listing_features_002.csv', 'decode_listing_features_003.csv', 'decode_listing_features_003_old.csv', 'decode_listing_features_004.csv', 'decode_listing_features_005.csv', 'decode_listing_features_006.csv', 'decode_listing_features_010_old.csv', 'Log_ROC.png', 'README.md', 'RMS.png']\n"
     ]
    }
   ],
   "source": [
    "import sys, os\n",
    "print(os.listdir())"
   ]
  },
  {
   "cell_type": "markdown",
   "metadata": {},
   "source": [
    "Now we import the first set of data, which include have some sequence specific features, including the target feature \"BAD_CHAN_FLAG\" (binary, 0 good, 1 bad)."
   ]
  },
  {
   "cell_type": "code",
   "execution_count": 7,
   "metadata": {},
   "outputs": [],
   "source": [
    "stats1=pd.read_csv('decode_listing_features_001.csv')\n",
    "stats1['SEQ']=1\n",
    "#stats1a=pd.read_csv('decode_listing_features_002.csv')\n",
    "#stats1a['SEQ']=2\n",
    "#stats1b=pd.read_csv('decode_listing_features_003.csv')\n",
    "#stats1b['SEQ']=3\n",
    "#stats1c=pd.read_csv('decode_listing_features_004.csv')\n",
    "#stats1c['SEQ']=4\n",
    "#stats1d=pd.read_csv('decode_listing_features_005.csv')\n",
    "#stats1d['SEQ']=5\n",
    "#stats1e=pd.read_csv('decode_listing_features_005.csv')\n",
    "#stats1e['SEQ']=6\n",
    "#stats1=stats1.append(stats1a)\n",
    "#stats1=stats1.append(stats1b)\n",
    "#stats1=stats1.append(stats1c)\n",
    "#stats1=stats1.append(stats1d)\n",
    "#stats1=stats1.append(stats1e)"
   ]
  },
  {
   "cell_type": "code",
   "execution_count": 8,
   "metadata": {},
   "outputs": [
    {
     "data": {
      "text/html": [
       "<div>\n",
       "<style scoped>\n",
       "    .dataframe tbody tr th:only-of-type {\n",
       "        vertical-align: middle;\n",
       "    }\n",
       "\n",
       "    .dataframe tbody tr th {\n",
       "        vertical-align: top;\n",
       "    }\n",
       "\n",
       "    .dataframe thead th {\n",
       "        text-align: right;\n",
       "    }\n",
       "</style>\n",
       "<table border=\"1\" class=\"dataframe\">\n",
       "  <thead>\n",
       "    <tr style=\"text-align: right;\">\n",
       "      <th></th>\n",
       "      <th>BAD_CHAN_FLAG</th>\n",
       "      <th>CAP_CUT_ERR</th>\n",
       "      <th>CAP_ERR</th>\n",
       "      <th>CAP_VAL</th>\n",
       "      <th>CHANNEL</th>\n",
       "      <th>DEEP_RMS</th>\n",
       "      <th>DEVICE</th>\n",
       "      <th>LEAK_ERR</th>\n",
       "      <th>LEAK_VAL</th>\n",
       "      <th>MARG_CHAN_FLAG</th>\n",
       "      <th>SENS</th>\n",
       "      <th>SEQ</th>\n",
       "    </tr>\n",
       "  </thead>\n",
       "  <tbody>\n",
       "    <tr>\n",
       "      <th>0</th>\n",
       "      <td>0</td>\n",
       "      <td>0</td>\n",
       "      <td>0</td>\n",
       "      <td>232.691345</td>\n",
       "      <td>1</td>\n",
       "      <td>10.58</td>\n",
       "      <td>4</td>\n",
       "      <td>0</td>\n",
       "      <td>5.0</td>\n",
       "      <td>0</td>\n",
       "      <td>31.66</td>\n",
       "      <td>1</td>\n",
       "    </tr>\n",
       "    <tr>\n",
       "      <th>1</th>\n",
       "      <td>0</td>\n",
       "      <td>0</td>\n",
       "      <td>0</td>\n",
       "      <td>228.366440</td>\n",
       "      <td>2</td>\n",
       "      <td>7.28</td>\n",
       "      <td>0</td>\n",
       "      <td>0</td>\n",
       "      <td>5.0</td>\n",
       "      <td>0</td>\n",
       "      <td>31.22</td>\n",
       "      <td>1</td>\n",
       "    </tr>\n",
       "    <tr>\n",
       "      <th>2</th>\n",
       "      <td>0</td>\n",
       "      <td>0</td>\n",
       "      <td>0</td>\n",
       "      <td>234.802597</td>\n",
       "      <td>3</td>\n",
       "      <td>6.10</td>\n",
       "      <td>0</td>\n",
       "      <td>0</td>\n",
       "      <td>5.0</td>\n",
       "      <td>0</td>\n",
       "      <td>30.32</td>\n",
       "      <td>1</td>\n",
       "    </tr>\n",
       "    <tr>\n",
       "      <th>3</th>\n",
       "      <td>0</td>\n",
       "      <td>0</td>\n",
       "      <td>0</td>\n",
       "      <td>233.590988</td>\n",
       "      <td>4</td>\n",
       "      <td>6.78</td>\n",
       "      <td>0</td>\n",
       "      <td>0</td>\n",
       "      <td>5.0</td>\n",
       "      <td>0</td>\n",
       "      <td>31.26</td>\n",
       "      <td>1</td>\n",
       "    </tr>\n",
       "    <tr>\n",
       "      <th>4</th>\n",
       "      <td>0</td>\n",
       "      <td>0</td>\n",
       "      <td>0</td>\n",
       "      <td>228.584885</td>\n",
       "      <td>5</td>\n",
       "      <td>7.02</td>\n",
       "      <td>0</td>\n",
       "      <td>0</td>\n",
       "      <td>5.0</td>\n",
       "      <td>0</td>\n",
       "      <td>31.13</td>\n",
       "      <td>1</td>\n",
       "    </tr>\n",
       "  </tbody>\n",
       "</table>\n",
       "</div>"
      ],
      "text/plain": [
       "   BAD_CHAN_FLAG  CAP_CUT_ERR  CAP_ERR     CAP_VAL  CHANNEL  DEEP_RMS  DEVICE  \\\n",
       "0              0            0        0  232.691345        1     10.58       4   \n",
       "1              0            0        0  228.366440        2      7.28       0   \n",
       "2              0            0        0  234.802597        3      6.10       0   \n",
       "3              0            0        0  233.590988        4      6.78       0   \n",
       "4              0            0        0  228.584885        5      7.02       0   \n",
       "\n",
       "   LEAK_ERR  LEAK_VAL  MARG_CHAN_FLAG   SENS  SEQ  \n",
       "0         0       5.0               0  31.66    1  \n",
       "1         0       5.0               0  31.22    1  \n",
       "2         0       5.0               0  30.32    1  \n",
       "3         0       5.0               0  31.26    1  \n",
       "4         0       5.0               0  31.13    1  "
      ]
     },
     "execution_count": 8,
     "metadata": {},
     "output_type": "execute_result"
    }
   ],
   "source": [
    "stats1.head()"
   ]
  },
  {
   "cell_type": "markdown",
   "metadata": {},
   "source": [
    "Now we import the RMS (noise) amplitude maps that will be used to derive more statistics. These provide an overview of recorded noise on the streamers - both backround and in our case when individual components breakdown and show up as bad channels."
   ]
  },
  {
   "cell_type": "code",
   "execution_count": 5,
   "metadata": {},
   "outputs": [],
   "source": [
    "stats2=pd.read_csv('001_amp_maps_2890.csv')\n",
    "stats2['SEQ']=1\n",
    "#stats2=pd.read_csv('008_P_amp_maps_2265P01.csv')\n",
    "#stats2['SEQ']=1\n",
    "#stats2a=pd.read_csv('002_amp_maps_3422.csv')\n",
    "#stats2a['SEQ']=2\n",
    "#stats2b=pd.read_csv('003_amp_maps_2918.csv')\n",
    "#stats2b['SEQ']=3\n",
    "#stats2c=pd.read_csv('004_amp_maps_3450.csv')\n",
    "#stats2c['SEQ']=4\n",
    "#stats2d=pd.read_csv('005_amp_maps_2946.csv')\n",
    "#stats2d['SEQ']=5\n",
    "#stats2e=pd.read_csv('006_amp_maps_3478.csv')#\n",
    "#stats2e['SEQ']=6"
   ]
  },
  {
   "cell_type": "markdown",
   "metadata": {},
   "source": [
    "Due to large file size only run more than one sequence and the following append code block if the computer has enough RAM."
   ]
  },
  {
   "cell_type": "code",
   "execution_count": null,
   "metadata": {},
   "outputs": [],
   "source": [
    "#stats2=stats2.append(stats2a)\n",
    "#stats2=stats2.append(stats2b)\n",
    "#stats2=stats2.append(stats2c)\n",
    "#stats2=stats2.append(stats2d)\n",
    "#stats2=stats2.append(stats2e)"
   ]
  },
  {
   "cell_type": "code",
   "execution_count": 6,
   "metadata": {},
   "outputs": [
    {
     "data": {
      "text/html": [
       "<div>\n",
       "<style scoped>\n",
       "    .dataframe tbody tr th:only-of-type {\n",
       "        vertical-align: middle;\n",
       "    }\n",
       "\n",
       "    .dataframe tbody tr th {\n",
       "        vertical-align: top;\n",
       "    }\n",
       "\n",
       "    .dataframe thead th {\n",
       "        text-align: right;\n",
       "    }\n",
       "</style>\n",
       "<table border=\"1\" class=\"dataframe\">\n",
       "  <thead>\n",
       "    <tr style=\"text-align: right;\">\n",
       "      <th></th>\n",
       "      <th>SRC_POINT</th>\n",
       "      <th>CHANNEL</th>\n",
       "      <th>WC_RMS</th>\n",
       "      <th>TGT_RMS</th>\n",
       "      <th>DEEP_RMS</th>\n",
       "      <th>FFID</th>\n",
       "      <th>CABLE</th>\n",
       "      <th>CABTR</th>\n",
       "      <th>SEQ</th>\n",
       "    </tr>\n",
       "  </thead>\n",
       "  <tbody>\n",
       "    <tr>\n",
       "      <th>0</th>\n",
       "      <td>5071</td>\n",
       "      <td>1</td>\n",
       "      <td>5.415281</td>\n",
       "      <td>30.081125</td>\n",
       "      <td>12.606074</td>\n",
       "      <td>1001</td>\n",
       "      <td>1</td>\n",
       "      <td>1</td>\n",
       "      <td>1</td>\n",
       "    </tr>\n",
       "    <tr>\n",
       "      <th>1</th>\n",
       "      <td>5071</td>\n",
       "      <td>2</td>\n",
       "      <td>6.816298</td>\n",
       "      <td>28.298389</td>\n",
       "      <td>9.360264</td>\n",
       "      <td>1001</td>\n",
       "      <td>1</td>\n",
       "      <td>2</td>\n",
       "      <td>1</td>\n",
       "    </tr>\n",
       "    <tr>\n",
       "      <th>2</th>\n",
       "      <td>5071</td>\n",
       "      <td>3</td>\n",
       "      <td>6.319650</td>\n",
       "      <td>25.300581</td>\n",
       "      <td>8.873336</td>\n",
       "      <td>1001</td>\n",
       "      <td>1</td>\n",
       "      <td>3</td>\n",
       "      <td>1</td>\n",
       "    </tr>\n",
       "    <tr>\n",
       "      <th>3</th>\n",
       "      <td>5071</td>\n",
       "      <td>4</td>\n",
       "      <td>2.712788</td>\n",
       "      <td>28.077599</td>\n",
       "      <td>7.638037</td>\n",
       "      <td>1001</td>\n",
       "      <td>1</td>\n",
       "      <td>4</td>\n",
       "      <td>1</td>\n",
       "    </tr>\n",
       "    <tr>\n",
       "      <th>4</th>\n",
       "      <td>5071</td>\n",
       "      <td>5</td>\n",
       "      <td>4.047064</td>\n",
       "      <td>27.413845</td>\n",
       "      <td>9.036798</td>\n",
       "      <td>1001</td>\n",
       "      <td>1</td>\n",
       "      <td>5</td>\n",
       "      <td>1</td>\n",
       "    </tr>\n",
       "  </tbody>\n",
       "</table>\n",
       "</div>"
      ],
      "text/plain": [
       "   SRC_POINT  CHANNEL    WC_RMS    TGT_RMS   DEEP_RMS  FFID  CABLE  CABTR  SEQ\n",
       "0       5071        1  5.415281  30.081125  12.606074  1001      1      1    1\n",
       "1       5071        2  6.816298  28.298389   9.360264  1001      1      2    1\n",
       "2       5071        3  6.319650  25.300581   8.873336  1001      1      3    1\n",
       "3       5071        4  2.712788  28.077599   7.638037  1001      1      4    1\n",
       "4       5071        5  4.047064  27.413845   9.036798  1001      1      5    1"
      ]
     },
     "execution_count": 6,
     "metadata": {},
     "output_type": "execute_result"
    }
   ],
   "source": [
    "stats2.head()"
   ]
  },
  {
   "cell_type": "markdown",
   "metadata": {},
   "source": [
    "Get standard deviation of root mean squared values, grouped by sequence and receiver number."
   ]
  },
  {
   "cell_type": "code",
   "execution_count": 9,
   "metadata": {},
   "outputs": [],
   "source": [
    "std_=stats2.groupby(['SEQ','CHANNEL'])['DEEP_RMS'].agg(np.std)"
   ]
  },
  {
   "cell_type": "code",
   "execution_count": 10,
   "metadata": {},
   "outputs": [],
   "source": [
    "std_=pd.DataFrame(std_)"
   ]
  },
  {
   "cell_type": "code",
   "execution_count": 11,
   "metadata": {},
   "outputs": [],
   "source": [
    "std_.sort_values(['SEQ','CHANNEL'],inplace=True)\n",
    "stats1.sort_values(['SEQ','CHANNEL'],inplace=True)"
   ]
  },
  {
   "cell_type": "code",
   "execution_count": 12,
   "metadata": {},
   "outputs": [
    {
     "data": {
      "text/plain": [
       "9072"
      ]
     },
     "execution_count": 12,
     "metadata": {},
     "output_type": "execute_result"
    }
   ],
   "source": [
    "std_.reset_index(inplace=True)\n",
    "len(std_)"
   ]
  },
  {
   "cell_type": "code",
   "execution_count": 13,
   "metadata": {},
   "outputs": [
    {
     "data": {
      "text/plain": [
       "9072"
      ]
     },
     "execution_count": 13,
     "metadata": {},
     "output_type": "execute_result"
    }
   ],
   "source": [
    "len(stats1)"
   ]
  },
  {
   "cell_type": "code",
   "execution_count": 14,
   "metadata": {},
   "outputs": [
    {
     "data": {
      "text/html": [
       "<div>\n",
       "<style scoped>\n",
       "    .dataframe tbody tr th:only-of-type {\n",
       "        vertical-align: middle;\n",
       "    }\n",
       "\n",
       "    .dataframe tbody tr th {\n",
       "        vertical-align: top;\n",
       "    }\n",
       "\n",
       "    .dataframe thead th {\n",
       "        text-align: right;\n",
       "    }\n",
       "</style>\n",
       "<table border=\"1\" class=\"dataframe\">\n",
       "  <thead>\n",
       "    <tr style=\"text-align: right;\">\n",
       "      <th></th>\n",
       "      <th>SEQ</th>\n",
       "      <th>CHANNEL</th>\n",
       "      <th>DEEP_RMS</th>\n",
       "    </tr>\n",
       "  </thead>\n",
       "  <tbody>\n",
       "    <tr>\n",
       "      <th>0</th>\n",
       "      <td>1</td>\n",
       "      <td>1</td>\n",
       "      <td>3.725214</td>\n",
       "    </tr>\n",
       "    <tr>\n",
       "      <th>1</th>\n",
       "      <td>1</td>\n",
       "      <td>2</td>\n",
       "      <td>2.094594</td>\n",
       "    </tr>\n",
       "    <tr>\n",
       "      <th>2</th>\n",
       "      <td>1</td>\n",
       "      <td>3</td>\n",
       "      <td>1.885017</td>\n",
       "    </tr>\n",
       "    <tr>\n",
       "      <th>3</th>\n",
       "      <td>1</td>\n",
       "      <td>4</td>\n",
       "      <td>2.093174</td>\n",
       "    </tr>\n",
       "    <tr>\n",
       "      <th>4</th>\n",
       "      <td>1</td>\n",
       "      <td>5</td>\n",
       "      <td>2.046160</td>\n",
       "    </tr>\n",
       "  </tbody>\n",
       "</table>\n",
       "</div>"
      ],
      "text/plain": [
       "   SEQ  CHANNEL  DEEP_RMS\n",
       "0    1        1  3.725214\n",
       "1    1        2  2.094594\n",
       "2    1        3  1.885017\n",
       "3    1        4  2.093174\n",
       "4    1        5  2.046160"
      ]
     },
     "execution_count": 14,
     "metadata": {},
     "output_type": "execute_result"
    }
   ],
   "source": [
    "std_.head()"
   ]
  },
  {
   "cell_type": "markdown",
   "metadata": {},
   "source": [
    "Merge the two dataframes."
   ]
  },
  {
   "cell_type": "code",
   "execution_count": 15,
   "metadata": {},
   "outputs": [],
   "source": [
    "df1=pd.merge(std_,stats1 , how='left', left_on=['SEQ','CHANNEL'], right_on=['SEQ','CHANNEL'])\n",
    "df2=df1.copy()"
   ]
  },
  {
   "cell_type": "code",
   "execution_count": 16,
   "metadata": {},
   "outputs": [
    {
     "data": {
      "text/html": [
       "<div>\n",
       "<style scoped>\n",
       "    .dataframe tbody tr th:only-of-type {\n",
       "        vertical-align: middle;\n",
       "    }\n",
       "\n",
       "    .dataframe tbody tr th {\n",
       "        vertical-align: top;\n",
       "    }\n",
       "\n",
       "    .dataframe thead th {\n",
       "        text-align: right;\n",
       "    }\n",
       "</style>\n",
       "<table border=\"1\" class=\"dataframe\">\n",
       "  <thead>\n",
       "    <tr style=\"text-align: right;\">\n",
       "      <th></th>\n",
       "      <th>SEQ</th>\n",
       "      <th>CHANNEL</th>\n",
       "      <th>DEEP_RMS_x</th>\n",
       "      <th>BAD_CHAN_FLAG</th>\n",
       "      <th>CAP_CUT_ERR</th>\n",
       "      <th>CAP_ERR</th>\n",
       "      <th>CAP_VAL</th>\n",
       "      <th>DEEP_RMS_y</th>\n",
       "      <th>DEVICE</th>\n",
       "      <th>LEAK_ERR</th>\n",
       "      <th>LEAK_VAL</th>\n",
       "      <th>MARG_CHAN_FLAG</th>\n",
       "      <th>SENS</th>\n",
       "    </tr>\n",
       "  </thead>\n",
       "  <tbody>\n",
       "    <tr>\n",
       "      <th>0</th>\n",
       "      <td>1</td>\n",
       "      <td>1</td>\n",
       "      <td>3.725214</td>\n",
       "      <td>0</td>\n",
       "      <td>0</td>\n",
       "      <td>0</td>\n",
       "      <td>232.691345</td>\n",
       "      <td>10.58</td>\n",
       "      <td>4</td>\n",
       "      <td>0</td>\n",
       "      <td>5.0</td>\n",
       "      <td>0</td>\n",
       "      <td>31.66</td>\n",
       "    </tr>\n",
       "    <tr>\n",
       "      <th>1</th>\n",
       "      <td>1</td>\n",
       "      <td>2</td>\n",
       "      <td>2.094594</td>\n",
       "      <td>0</td>\n",
       "      <td>0</td>\n",
       "      <td>0</td>\n",
       "      <td>228.366440</td>\n",
       "      <td>7.28</td>\n",
       "      <td>0</td>\n",
       "      <td>0</td>\n",
       "      <td>5.0</td>\n",
       "      <td>0</td>\n",
       "      <td>31.22</td>\n",
       "    </tr>\n",
       "    <tr>\n",
       "      <th>2</th>\n",
       "      <td>1</td>\n",
       "      <td>3</td>\n",
       "      <td>1.885017</td>\n",
       "      <td>0</td>\n",
       "      <td>0</td>\n",
       "      <td>0</td>\n",
       "      <td>234.802597</td>\n",
       "      <td>6.10</td>\n",
       "      <td>0</td>\n",
       "      <td>0</td>\n",
       "      <td>5.0</td>\n",
       "      <td>0</td>\n",
       "      <td>30.32</td>\n",
       "    </tr>\n",
       "    <tr>\n",
       "      <th>3</th>\n",
       "      <td>1</td>\n",
       "      <td>4</td>\n",
       "      <td>2.093174</td>\n",
       "      <td>0</td>\n",
       "      <td>0</td>\n",
       "      <td>0</td>\n",
       "      <td>233.590988</td>\n",
       "      <td>6.78</td>\n",
       "      <td>0</td>\n",
       "      <td>0</td>\n",
       "      <td>5.0</td>\n",
       "      <td>0</td>\n",
       "      <td>31.26</td>\n",
       "    </tr>\n",
       "    <tr>\n",
       "      <th>4</th>\n",
       "      <td>1</td>\n",
       "      <td>5</td>\n",
       "      <td>2.046160</td>\n",
       "      <td>0</td>\n",
       "      <td>0</td>\n",
       "      <td>0</td>\n",
       "      <td>228.584885</td>\n",
       "      <td>7.02</td>\n",
       "      <td>0</td>\n",
       "      <td>0</td>\n",
       "      <td>5.0</td>\n",
       "      <td>0</td>\n",
       "      <td>31.13</td>\n",
       "    </tr>\n",
       "    <tr>\n",
       "      <th>5</th>\n",
       "      <td>1</td>\n",
       "      <td>6</td>\n",
       "      <td>1.960650</td>\n",
       "      <td>0</td>\n",
       "      <td>0</td>\n",
       "      <td>0</td>\n",
       "      <td>230.264236</td>\n",
       "      <td>6.56</td>\n",
       "      <td>0</td>\n",
       "      <td>0</td>\n",
       "      <td>5.0</td>\n",
       "      <td>0</td>\n",
       "      <td>30.82</td>\n",
       "    </tr>\n",
       "    <tr>\n",
       "      <th>6</th>\n",
       "      <td>1</td>\n",
       "      <td>7</td>\n",
       "      <td>2.006694</td>\n",
       "      <td>0</td>\n",
       "      <td>0</td>\n",
       "      <td>0</td>\n",
       "      <td>230.004303</td>\n",
       "      <td>6.84</td>\n",
       "      <td>0</td>\n",
       "      <td>0</td>\n",
       "      <td>5.0</td>\n",
       "      <td>0</td>\n",
       "      <td>31.01</td>\n",
       "    </tr>\n",
       "    <tr>\n",
       "      <th>7</th>\n",
       "      <td>1</td>\n",
       "      <td>8</td>\n",
       "      <td>2.026388</td>\n",
       "      <td>0</td>\n",
       "      <td>0</td>\n",
       "      <td>0</td>\n",
       "      <td>231.898392</td>\n",
       "      <td>6.79</td>\n",
       "      <td>0</td>\n",
       "      <td>0</td>\n",
       "      <td>5.0</td>\n",
       "      <td>0</td>\n",
       "      <td>31.13</td>\n",
       "    </tr>\n",
       "    <tr>\n",
       "      <th>8</th>\n",
       "      <td>1</td>\n",
       "      <td>9</td>\n",
       "      <td>1.988935</td>\n",
       "      <td>0</td>\n",
       "      <td>0</td>\n",
       "      <td>0</td>\n",
       "      <td>230.703339</td>\n",
       "      <td>7.01</td>\n",
       "      <td>0</td>\n",
       "      <td>0</td>\n",
       "      <td>5.0</td>\n",
       "      <td>0</td>\n",
       "      <td>30.98</td>\n",
       "    </tr>\n",
       "    <tr>\n",
       "      <th>9</th>\n",
       "      <td>1</td>\n",
       "      <td>10</td>\n",
       "      <td>2.097428</td>\n",
       "      <td>0</td>\n",
       "      <td>0</td>\n",
       "      <td>0</td>\n",
       "      <td>226.584427</td>\n",
       "      <td>7.53</td>\n",
       "      <td>0</td>\n",
       "      <td>0</td>\n",
       "      <td>5.0</td>\n",
       "      <td>0</td>\n",
       "      <td>31.27</td>\n",
       "    </tr>\n",
       "  </tbody>\n",
       "</table>\n",
       "</div>"
      ],
      "text/plain": [
       "   SEQ  CHANNEL  DEEP_RMS_x  BAD_CHAN_FLAG  CAP_CUT_ERR  CAP_ERR     CAP_VAL  \\\n",
       "0    1        1    3.725214              0            0        0  232.691345   \n",
       "1    1        2    2.094594              0            0        0  228.366440   \n",
       "2    1        3    1.885017              0            0        0  234.802597   \n",
       "3    1        4    2.093174              0            0        0  233.590988   \n",
       "4    1        5    2.046160              0            0        0  228.584885   \n",
       "5    1        6    1.960650              0            0        0  230.264236   \n",
       "6    1        7    2.006694              0            0        0  230.004303   \n",
       "7    1        8    2.026388              0            0        0  231.898392   \n",
       "8    1        9    1.988935              0            0        0  230.703339   \n",
       "9    1       10    2.097428              0            0        0  226.584427   \n",
       "\n",
       "   DEEP_RMS_y  DEVICE  LEAK_ERR  LEAK_VAL  MARG_CHAN_FLAG   SENS  \n",
       "0       10.58       4         0       5.0               0  31.66  \n",
       "1        7.28       0         0       5.0               0  31.22  \n",
       "2        6.10       0         0       5.0               0  30.32  \n",
       "3        6.78       0         0       5.0               0  31.26  \n",
       "4        7.02       0         0       5.0               0  31.13  \n",
       "5        6.56       0         0       5.0               0  30.82  \n",
       "6        6.84       0         0       5.0               0  31.01  \n",
       "7        6.79       0         0       5.0               0  31.13  \n",
       "8        7.01       0         0       5.0               0  30.98  \n",
       "9        7.53       0         0       5.0               0  31.27  "
      ]
     },
     "execution_count": 16,
     "metadata": {},
     "output_type": "execute_result"
    }
   ],
   "source": [
    "df2.head(10)"
   ]
  },
  {
   "cell_type": "markdown",
   "metadata": {},
   "source": [
    "Plot the Root Mean Square (RMS) of (noise) Amplitudes"
   ]
  },
  {
   "cell_type": "code",
   "execution_count": 17,
   "metadata": {},
   "outputs": [],
   "source": [
    "a=stats2['TGT_RMS']"
   ]
  },
  {
   "cell_type": "code",
   "execution_count": 18,
   "metadata": {},
   "outputs": [],
   "source": [
    "b=a.to_list()"
   ]
  },
  {
   "cell_type": "markdown",
   "metadata": {},
   "source": [
    "Re-shape the list for plotting."
   ]
  },
  {
   "cell_type": "code",
   "execution_count": 19,
   "metadata": {},
   "outputs": [],
   "source": [
    "c=np.reshape(b,(-1,9072))\n",
    "c=np.transpose(c)"
   ]
  },
  {
   "cell_type": "markdown",
   "metadata": {},
   "source": [
    "A little clipping of the value to 100 for color scaling."
   ]
  },
  {
   "cell_type": "code",
   "execution_count": 20,
   "metadata": {},
   "outputs": [],
   "source": [
    "c=np.clip(c,0,100)"
   ]
  },
  {
   "cell_type": "code",
   "execution_count": 21,
   "metadata": {},
   "outputs": [],
   "source": [
    "%matplotlib inline"
   ]
  },
  {
   "cell_type": "code",
   "execution_count": 22,
   "metadata": {},
   "outputs": [
    {
     "data": {
      "image/png": "[encoded data removed]",
      "text/plain": [
       "<Figure size 432x288 with 2 Axes>"
      ]
     },
     "metadata": {
      "needs_background": "light"
     },
     "output_type": "display_data"
    }
   ],
   "source": [
    "import matplotlib.colors as colly\n",
    "\n",
    "cmap1= colly.LinearSegmentedColormap.from_list(\"\" , ['blue','green','red'])\n",
    "\n",
    "im=plt.imshow(c, cmap=cmap1)\n",
    "plt.colorbar(im)\n",
    "plt.rcParams[\"figure.figsize\"] = (70,20)\n",
    "plt.savefig('RMS.png')\n",
    "\n",
    "plt.show()"
   ]
  },
  {
   "cell_type": "markdown",
   "metadata": {},
   "source": [
    "**Now for the modelling part...**"
   ]
  },
  {
   "cell_type": "code",
   "execution_count": 23,
   "metadata": {},
   "outputs": [
    {
     "data": {
      "text/html": [
       "<div>\n",
       "<style scoped>\n",
       "    .dataframe tbody tr th:only-of-type {\n",
       "        vertical-align: middle;\n",
       "    }\n",
       "\n",
       "    .dataframe tbody tr th {\n",
       "        vertical-align: top;\n",
       "    }\n",
       "\n",
       "    .dataframe thead th {\n",
       "        text-align: right;\n",
       "    }\n",
       "</style>\n",
       "<table border=\"1\" class=\"dataframe\">\n",
       "  <thead>\n",
       "    <tr style=\"text-align: right;\">\n",
       "      <th></th>\n",
       "      <th>SEQ</th>\n",
       "      <th>CHANNEL</th>\n",
       "      <th>DEEP_RMS_x</th>\n",
       "      <th>BAD_CHAN_FLAG</th>\n",
       "      <th>CAP_CUT_ERR</th>\n",
       "      <th>CAP_ERR</th>\n",
       "      <th>CAP_VAL</th>\n",
       "      <th>DEEP_RMS_y</th>\n",
       "      <th>DEVICE</th>\n",
       "      <th>LEAK_ERR</th>\n",
       "      <th>LEAK_VAL</th>\n",
       "      <th>MARG_CHAN_FLAG</th>\n",
       "      <th>SENS</th>\n",
       "    </tr>\n",
       "  </thead>\n",
       "  <tbody>\n",
       "    <tr>\n",
       "      <th>0</th>\n",
       "      <td>1</td>\n",
       "      <td>1</td>\n",
       "      <td>3.725214</td>\n",
       "      <td>0</td>\n",
       "      <td>0</td>\n",
       "      <td>0</td>\n",
       "      <td>232.691345</td>\n",
       "      <td>10.58</td>\n",
       "      <td>4</td>\n",
       "      <td>0</td>\n",
       "      <td>5.0</td>\n",
       "      <td>0</td>\n",
       "      <td>31.66</td>\n",
       "    </tr>\n",
       "    <tr>\n",
       "      <th>1</th>\n",
       "      <td>1</td>\n",
       "      <td>2</td>\n",
       "      <td>2.094594</td>\n",
       "      <td>0</td>\n",
       "      <td>0</td>\n",
       "      <td>0</td>\n",
       "      <td>228.366440</td>\n",
       "      <td>7.28</td>\n",
       "      <td>0</td>\n",
       "      <td>0</td>\n",
       "      <td>5.0</td>\n",
       "      <td>0</td>\n",
       "      <td>31.22</td>\n",
       "    </tr>\n",
       "    <tr>\n",
       "      <th>2</th>\n",
       "      <td>1</td>\n",
       "      <td>3</td>\n",
       "      <td>1.885017</td>\n",
       "      <td>0</td>\n",
       "      <td>0</td>\n",
       "      <td>0</td>\n",
       "      <td>234.802597</td>\n",
       "      <td>6.10</td>\n",
       "      <td>0</td>\n",
       "      <td>0</td>\n",
       "      <td>5.0</td>\n",
       "      <td>0</td>\n",
       "      <td>30.32</td>\n",
       "    </tr>\n",
       "    <tr>\n",
       "      <th>3</th>\n",
       "      <td>1</td>\n",
       "      <td>4</td>\n",
       "      <td>2.093174</td>\n",
       "      <td>0</td>\n",
       "      <td>0</td>\n",
       "      <td>0</td>\n",
       "      <td>233.590988</td>\n",
       "      <td>6.78</td>\n",
       "      <td>0</td>\n",
       "      <td>0</td>\n",
       "      <td>5.0</td>\n",
       "      <td>0</td>\n",
       "      <td>31.26</td>\n",
       "    </tr>\n",
       "    <tr>\n",
       "      <th>4</th>\n",
       "      <td>1</td>\n",
       "      <td>5</td>\n",
       "      <td>2.046160</td>\n",
       "      <td>0</td>\n",
       "      <td>0</td>\n",
       "      <td>0</td>\n",
       "      <td>228.584885</td>\n",
       "      <td>7.02</td>\n",
       "      <td>0</td>\n",
       "      <td>0</td>\n",
       "      <td>5.0</td>\n",
       "      <td>0</td>\n",
       "      <td>31.13</td>\n",
       "    </tr>\n",
       "    <tr>\n",
       "      <th>5</th>\n",
       "      <td>1</td>\n",
       "      <td>6</td>\n",
       "      <td>1.960650</td>\n",
       "      <td>0</td>\n",
       "      <td>0</td>\n",
       "      <td>0</td>\n",
       "      <td>230.264236</td>\n",
       "      <td>6.56</td>\n",
       "      <td>0</td>\n",
       "      <td>0</td>\n",
       "      <td>5.0</td>\n",
       "      <td>0</td>\n",
       "      <td>30.82</td>\n",
       "    </tr>\n",
       "    <tr>\n",
       "      <th>6</th>\n",
       "      <td>1</td>\n",
       "      <td>7</td>\n",
       "      <td>2.006694</td>\n",
       "      <td>0</td>\n",
       "      <td>0</td>\n",
       "      <td>0</td>\n",
       "      <td>230.004303</td>\n",
       "      <td>6.84</td>\n",
       "      <td>0</td>\n",
       "      <td>0</td>\n",
       "      <td>5.0</td>\n",
       "      <td>0</td>\n",
       "      <td>31.01</td>\n",
       "    </tr>\n",
       "    <tr>\n",
       "      <th>7</th>\n",
       "      <td>1</td>\n",
       "      <td>8</td>\n",
       "      <td>2.026388</td>\n",
       "      <td>0</td>\n",
       "      <td>0</td>\n",
       "      <td>0</td>\n",
       "      <td>231.898392</td>\n",
       "      <td>6.79</td>\n",
       "      <td>0</td>\n",
       "      <td>0</td>\n",
       "      <td>5.0</td>\n",
       "      <td>0</td>\n",
       "      <td>31.13</td>\n",
       "    </tr>\n",
       "    <tr>\n",
       "      <th>8</th>\n",
       "      <td>1</td>\n",
       "      <td>9</td>\n",
       "      <td>1.988935</td>\n",
       "      <td>0</td>\n",
       "      <td>0</td>\n",
       "      <td>0</td>\n",
       "      <td>230.703339</td>\n",
       "      <td>7.01</td>\n",
       "      <td>0</td>\n",
       "      <td>0</td>\n",
       "      <td>5.0</td>\n",
       "      <td>0</td>\n",
       "      <td>30.98</td>\n",
       "    </tr>\n",
       "    <tr>\n",
       "      <th>9</th>\n",
       "      <td>1</td>\n",
       "      <td>10</td>\n",
       "      <td>2.097428</td>\n",
       "      <td>0</td>\n",
       "      <td>0</td>\n",
       "      <td>0</td>\n",
       "      <td>226.584427</td>\n",
       "      <td>7.53</td>\n",
       "      <td>0</td>\n",
       "      <td>0</td>\n",
       "      <td>5.0</td>\n",
       "      <td>0</td>\n",
       "      <td>31.27</td>\n",
       "    </tr>\n",
       "  </tbody>\n",
       "</table>\n",
       "</div>"
      ],
      "text/plain": [
       "   SEQ  CHANNEL  DEEP_RMS_x  BAD_CHAN_FLAG  CAP_CUT_ERR  CAP_ERR     CAP_VAL  \\\n",
       "0    1        1    3.725214              0            0        0  232.691345   \n",
       "1    1        2    2.094594              0            0        0  228.366440   \n",
       "2    1        3    1.885017              0            0        0  234.802597   \n",
       "3    1        4    2.093174              0            0        0  233.590988   \n",
       "4    1        5    2.046160              0            0        0  228.584885   \n",
       "5    1        6    1.960650              0            0        0  230.264236   \n",
       "6    1        7    2.006694              0            0        0  230.004303   \n",
       "7    1        8    2.026388              0            0        0  231.898392   \n",
       "8    1        9    1.988935              0            0        0  230.703339   \n",
       "9    1       10    2.097428              0            0        0  226.584427   \n",
       "\n",
       "   DEEP_RMS_y  DEVICE  LEAK_ERR  LEAK_VAL  MARG_CHAN_FLAG   SENS  \n",
       "0       10.58       4         0       5.0               0  31.66  \n",
       "1        7.28       0         0       5.0               0  31.22  \n",
       "2        6.10       0         0       5.0               0  30.32  \n",
       "3        6.78       0         0       5.0               0  31.26  \n",
       "4        7.02       0         0       5.0               0  31.13  \n",
       "5        6.56       0         0       5.0               0  30.82  \n",
       "6        6.84       0         0       5.0               0  31.01  \n",
       "7        6.79       0         0       5.0               0  31.13  \n",
       "8        7.01       0         0       5.0               0  30.98  \n",
       "9        7.53       0         0       5.0               0  31.27  "
      ]
     },
     "execution_count": 23,
     "metadata": {},
     "output_type": "execute_result"
    }
   ],
   "source": [
    "df1.head(10)"
   ]
  },
  {
   "cell_type": "markdown",
   "metadata": {},
   "source": [
    "Drop one by one the features we do not need..."
   ]
  },
  {
   "cell_type": "code",
   "execution_count": 25,
   "metadata": {},
   "outputs": [
    {
     "name": "stderr",
     "output_type": "stream",
     "text": [
      "C:\\Users\\sirproc\\AppData\\Local\\Temp\\ipykernel_16856\\1774694302.py:1: FutureWarning: In a future version of pandas all arguments of DataFrame.drop except for the argument 'labels' will be keyword-only.\n",
      "  df1=df1.drop('CAP_CUT_ERR',1)\n",
      "C:\\Users\\sirproc\\AppData\\Local\\Temp\\ipykernel_16856\\1774694302.py:2: FutureWarning: In a future version of pandas all arguments of DataFrame.drop except for the argument 'labels' will be keyword-only.\n",
      "  df1=df1.drop('CAP_ERR',1)\n",
      "C:\\Users\\sirproc\\AppData\\Local\\Temp\\ipykernel_16856\\1774694302.py:3: FutureWarning: In a future version of pandas all arguments of DataFrame.drop except for the argument 'labels' will be keyword-only.\n",
      "  df1=df1.drop('LEAK_ERR',1)\n",
      "C:\\Users\\sirproc\\AppData\\Local\\Temp\\ipykernel_16856\\1774694302.py:4: FutureWarning: In a future version of pandas all arguments of DataFrame.drop except for the argument 'labels' will be keyword-only.\n",
      "  df1=df1.drop('SENS',1)\n",
      "C:\\Users\\sirproc\\AppData\\Local\\Temp\\ipykernel_16856\\1774694302.py:5: FutureWarning: In a future version of pandas all arguments of DataFrame.drop except for the argument 'labels' will be keyword-only.\n",
      "  df1=df1.drop('MARG_CHAN_FLAG',1)\n"
     ]
    }
   ],
   "source": [
    "df1=df1.drop('CAP_CUT_ERR',1)\n",
    "df1=df1.drop('CAP_ERR',1)\n",
    "df1=df1.drop('LEAK_ERR',1)\n",
    "df1=df1.drop('SENS',1)\n",
    "df1=df1.drop('MARG_CHAN_FLAG',1)"
   ]
  },
  {
   "cell_type": "code",
   "execution_count": 24,
   "metadata": {},
   "outputs": [
    {
     "data": {
      "text/html": [
       "<div>\n",
       "<style scoped>\n",
       "    .dataframe tbody tr th:only-of-type {\n",
       "        vertical-align: middle;\n",
       "    }\n",
       "\n",
       "    .dataframe tbody tr th {\n",
       "        vertical-align: top;\n",
       "    }\n",
       "\n",
       "    .dataframe thead th {\n",
       "        text-align: right;\n",
       "    }\n",
       "</style>\n",
       "<table border=\"1\" class=\"dataframe\">\n",
       "  <thead>\n",
       "    <tr style=\"text-align: right;\">\n",
       "      <th></th>\n",
       "      <th>SEQ</th>\n",
       "      <th>CHANNEL</th>\n",
       "      <th>DEEP_RMS_x</th>\n",
       "      <th>BAD_CHAN_FLAG</th>\n",
       "      <th>CAP_CUT_ERR</th>\n",
       "      <th>CAP_ERR</th>\n",
       "      <th>CAP_VAL</th>\n",
       "      <th>DEEP_RMS_y</th>\n",
       "      <th>DEVICE</th>\n",
       "      <th>LEAK_ERR</th>\n",
       "      <th>LEAK_VAL</th>\n",
       "      <th>MARG_CHAN_FLAG</th>\n",
       "      <th>SENS</th>\n",
       "    </tr>\n",
       "  </thead>\n",
       "  <tbody>\n",
       "    <tr>\n",
       "      <th>0</th>\n",
       "      <td>1</td>\n",
       "      <td>1</td>\n",
       "      <td>3.725214</td>\n",
       "      <td>0</td>\n",
       "      <td>0</td>\n",
       "      <td>0</td>\n",
       "      <td>232.691345</td>\n",
       "      <td>10.58</td>\n",
       "      <td>4</td>\n",
       "      <td>0</td>\n",
       "      <td>5.0</td>\n",
       "      <td>0</td>\n",
       "      <td>31.66</td>\n",
       "    </tr>\n",
       "    <tr>\n",
       "      <th>1</th>\n",
       "      <td>1</td>\n",
       "      <td>2</td>\n",
       "      <td>2.094594</td>\n",
       "      <td>0</td>\n",
       "      <td>0</td>\n",
       "      <td>0</td>\n",
       "      <td>228.366440</td>\n",
       "      <td>7.28</td>\n",
       "      <td>0</td>\n",
       "      <td>0</td>\n",
       "      <td>5.0</td>\n",
       "      <td>0</td>\n",
       "      <td>31.22</td>\n",
       "    </tr>\n",
       "    <tr>\n",
       "      <th>2</th>\n",
       "      <td>1</td>\n",
       "      <td>3</td>\n",
       "      <td>1.885017</td>\n",
       "      <td>0</td>\n",
       "      <td>0</td>\n",
       "      <td>0</td>\n",
       "      <td>234.802597</td>\n",
       "      <td>6.10</td>\n",
       "      <td>0</td>\n",
       "      <td>0</td>\n",
       "      <td>5.0</td>\n",
       "      <td>0</td>\n",
       "      <td>30.32</td>\n",
       "    </tr>\n",
       "    <tr>\n",
       "      <th>3</th>\n",
       "      <td>1</td>\n",
       "      <td>4</td>\n",
       "      <td>2.093174</td>\n",
       "      <td>0</td>\n",
       "      <td>0</td>\n",
       "      <td>0</td>\n",
       "      <td>233.590988</td>\n",
       "      <td>6.78</td>\n",
       "      <td>0</td>\n",
       "      <td>0</td>\n",
       "      <td>5.0</td>\n",
       "      <td>0</td>\n",
       "      <td>31.26</td>\n",
       "    </tr>\n",
       "    <tr>\n",
       "      <th>4</th>\n",
       "      <td>1</td>\n",
       "      <td>5</td>\n",
       "      <td>2.046160</td>\n",
       "      <td>0</td>\n",
       "      <td>0</td>\n",
       "      <td>0</td>\n",
       "      <td>228.584885</td>\n",
       "      <td>7.02</td>\n",
       "      <td>0</td>\n",
       "      <td>0</td>\n",
       "      <td>5.0</td>\n",
       "      <td>0</td>\n",
       "      <td>31.13</td>\n",
       "    </tr>\n",
       "  </tbody>\n",
       "</table>\n",
       "</div>"
      ],
      "text/plain": [
       "   SEQ  CHANNEL  DEEP_RMS_x  BAD_CHAN_FLAG  CAP_CUT_ERR  CAP_ERR     CAP_VAL  \\\n",
       "0    1        1    3.725214              0            0        0  232.691345   \n",
       "1    1        2    2.094594              0            0        0  228.366440   \n",
       "2    1        3    1.885017              0            0        0  234.802597   \n",
       "3    1        4    2.093174              0            0        0  233.590988   \n",
       "4    1        5    2.046160              0            0        0  228.584885   \n",
       "\n",
       "   DEEP_RMS_y  DEVICE  LEAK_ERR  LEAK_VAL  MARG_CHAN_FLAG   SENS  \n",
       "0       10.58       4         0       5.0               0  31.66  \n",
       "1        7.28       0         0       5.0               0  31.22  \n",
       "2        6.10       0         0       5.0               0  30.32  \n",
       "3        6.78       0         0       5.0               0  31.26  \n",
       "4        7.02       0         0       5.0               0  31.13  "
      ]
     },
     "execution_count": 24,
     "metadata": {},
     "output_type": "execute_result"
    }
   ],
   "source": [
    "df1.head()"
   ]
  },
  {
   "cell_type": "code",
   "execution_count": 25,
   "metadata": {},
   "outputs": [
    {
     "name": "stderr",
     "output_type": "stream",
     "text": [
      "C:\\Users\\sirproc\\AppData\\Local\\Temp\\ipykernel_12412\\1240260745.py:3: FutureWarning: In a future version of pandas all arguments of DataFrame.drop except for the argument 'labels' will be keyword-only.\n",
      "  X=df1.drop(['BAD_CHAN_FLAG'],1)\n"
     ]
    }
   ],
   "source": [
    "pd.to_numeric(df1['BAD_CHAN_FLAG'])\n",
    "y=pd.DataFrame(df1['BAD_CHAN_FLAG'])\n",
    "X=df1.drop(['BAD_CHAN_FLAG'],1)"
   ]
  },
  {
   "cell_type": "code",
   "execution_count": 26,
   "metadata": {},
   "outputs": [],
   "source": [
    "yy=y.values.tolist()"
   ]
  },
  {
   "cell_type": "code",
   "execution_count": 27,
   "metadata": {},
   "outputs": [
    {
     "name": "stderr",
     "output_type": "stream",
     "text": [
      "C:\\Users\\sirproc\\AppData\\Local\\Temp\\ipykernel_12412\\447026479.py:2: FutureWarning: In a future version of pandas all arguments of DataFrame.drop except for the argument 'labels' will be keyword-only.\n",
      "  X2=X2.drop(['CHANNEL','SEQ'],1)\n"
     ]
    }
   ],
   "source": [
    "X2=X.copy()\n",
    "X2=X2.drop(['CHANNEL','SEQ'],1)"
   ]
  },
  {
   "cell_type": "code",
   "execution_count": 28,
   "metadata": {},
   "outputs": [],
   "source": [
    "# Calculate the correlation values\n",
    "feature_cols = X2.columns\n",
    "corr_values = X2[feature_cols].corr()\n",
    "\n",
    "# Simplify by emptying all the data below the diagonal\n",
    "tril_index = np.tril_indices_from(corr_values)\n",
    "\n",
    "# Make the unused values NaNs\n",
    "for coord in zip(*tril_index):\n",
    "    corr_values.iloc[coord[0], coord[1]] = np.NaN\n",
    "    \n",
    "# Stack the data and convert to a data frame\n",
    "corr_values = (corr_values\n",
    "               .stack()\n",
    "               .to_frame()\n",
    "               .reset_index()\n",
    "               .rename(columns={'level_0':'feature1',\n",
    "                                'level_1':'feature2',\n",
    "                                0:'correlation'}))\n",
    "\n",
    "# Get the absolute values for sorting\n",
    "corr_values['abs_correlation'] = corr_values.correlation.abs()"
   ]
  },
  {
   "cell_type": "code",
   "execution_count": 29,
   "metadata": {},
   "outputs": [
    {
     "data": {
      "image/png": "[encoded data removed]",
      "text/plain": [
       "<Figure size 864x576 with 1 Axes>"
      ]
     },
     "metadata": {},
     "output_type": "display_data"
    }
   ],
   "source": [
    "sns.set_context('talk')\n",
    "sns.set_style('white')\n",
    "\n",
    "ax = corr_values.abs_correlation.hist(bins=10, figsize=(12, 8))\n",
    "ax.set(xlabel='Absolute Correlation', ylabel='Frequency');"
   ]
  },
  {
   "cell_type": "code",
   "execution_count": 30,
   "metadata": {},
   "outputs": [
    {
     "data": {
      "text/html": [
       "<div>\n",
       "<style scoped>\n",
       "    .dataframe tbody tr th:only-of-type {\n",
       "        vertical-align: middle;\n",
       "    }\n",
       "\n",
       "    .dataframe tbody tr th {\n",
       "        vertical-align: top;\n",
       "    }\n",
       "\n",
       "    .dataframe thead th {\n",
       "        text-align: right;\n",
       "    }\n",
       "</style>\n",
       "<table border=\"1\" class=\"dataframe\">\n",
       "  <thead>\n",
       "    <tr style=\"text-align: right;\">\n",
       "      <th></th>\n",
       "      <th>feature1</th>\n",
       "      <th>feature2</th>\n",
       "      <th>correlation</th>\n",
       "      <th>abs_correlation</th>\n",
       "    </tr>\n",
       "  </thead>\n",
       "  <tbody>\n",
       "    <tr>\n",
       "      <th>17</th>\n",
       "      <td>DEEP_RMS_y</td>\n",
       "      <td>SENS</td>\n",
       "      <td>0.723199</td>\n",
       "      <td>0.723199</td>\n",
       "    </tr>\n",
       "    <tr>\n",
       "      <th>6</th>\n",
       "      <td>DEEP_RMS_x</td>\n",
       "      <td>SENS</td>\n",
       "      <td>0.562433</td>\n",
       "      <td>0.562433</td>\n",
       "    </tr>\n",
       "    <tr>\n",
       "      <th>1</th>\n",
       "      <td>DEEP_RMS_x</td>\n",
       "      <td>DEEP_RMS_y</td>\n",
       "      <td>0.554213</td>\n",
       "      <td>0.554213</td>\n",
       "    </tr>\n",
       "    <tr>\n",
       "      <th>23</th>\n",
       "      <td>LEAK_ERR</td>\n",
       "      <td>MARG_CHAN_FLAG</td>\n",
       "      <td>0.485388</td>\n",
       "      <td>0.485388</td>\n",
       "    </tr>\n",
       "    <tr>\n",
       "      <th>13</th>\n",
       "      <td>DEEP_RMS_y</td>\n",
       "      <td>DEVICE</td>\n",
       "      <td>0.253006</td>\n",
       "      <td>0.253006</td>\n",
       "    </tr>\n",
       "    <tr>\n",
       "      <th>25</th>\n",
       "      <td>LEAK_VAL</td>\n",
       "      <td>MARG_CHAN_FLAG</td>\n",
       "      <td>-0.450038</td>\n",
       "      <td>0.450038</td>\n",
       "    </tr>\n",
       "    <tr>\n",
       "      <th>22</th>\n",
       "      <td>LEAK_ERR</td>\n",
       "      <td>LEAK_VAL</td>\n",
       "      <td>-0.889073</td>\n",
       "      <td>0.889073</td>\n",
       "    </tr>\n",
       "  </tbody>\n",
       "</table>\n",
       "</div>"
      ],
      "text/plain": [
       "      feature1        feature2  correlation  abs_correlation\n",
       "17  DEEP_RMS_y            SENS     0.723199         0.723199\n",
       "6   DEEP_RMS_x            SENS     0.562433         0.562433\n",
       "1   DEEP_RMS_x      DEEP_RMS_y     0.554213         0.554213\n",
       "23    LEAK_ERR  MARG_CHAN_FLAG     0.485388         0.485388\n",
       "13  DEEP_RMS_y          DEVICE     0.253006         0.253006\n",
       "25    LEAK_VAL  MARG_CHAN_FLAG    -0.450038         0.450038\n",
       "22    LEAK_ERR        LEAK_VAL    -0.889073         0.889073"
      ]
     },
     "execution_count": 30,
     "metadata": {},
     "output_type": "execute_result"
    }
   ],
   "source": [
    "# The most highly correlated values\n",
    "corr_values.sort_values('correlation', ascending=False).query('abs_correlation>0.2')"
   ]
  },
  {
   "cell_type": "markdown",
   "metadata": {},
   "source": [
    "**Logistic Regression**"
   ]
  },
  {
   "cell_type": "code",
   "execution_count": 31,
   "metadata": {},
   "outputs": [],
   "source": [
    "XX=X2.values.tolist()"
   ]
  },
  {
   "cell_type": "code",
   "execution_count": 32,
   "metadata": {},
   "outputs": [
    {
     "data": {
      "text/plain": [
       "[[3.725214248963877, 0.0, 0.0, 232.691345, 10.58, 4.0, 0.0, 5.0, 0.0, 31.66],\n",
       " [2.0945937529968033, 0.0, 0.0, 228.36644, 7.28, 0.0, 0.0, 5.0, 0.0, 31.22],\n",
       " [1.8850165095194575, 0.0, 0.0, 234.802597, 6.1, 0.0, 0.0, 5.0, 0.0, 30.32],\n",
       " [2.0931738147193406, 0.0, 0.0, 233.590988, 6.78, 0.0, 0.0, 5.0, 0.0, 31.26],\n",
       " [2.0461598423613534, 0.0, 0.0, 228.584885, 7.02, 0.0, 0.0, 5.0, 0.0, 31.13]]"
      ]
     },
     "execution_count": 32,
     "metadata": {},
     "output_type": "execute_result"
    }
   ],
   "source": [
    "XX[0:5]"
   ]
  },
  {
   "cell_type": "markdown",
   "metadata": {},
   "source": [
    "We use a standard scalar to normalise the dataset."
   ]
  },
  {
   "cell_type": "code",
   "execution_count": 33,
   "metadata": {},
   "outputs": [],
   "source": [
    "XX=preprocessing.StandardScaler().fit(XX).transform(XX)"
   ]
  },
  {
   "cell_type": "code",
   "execution_count": 34,
   "metadata": {},
   "outputs": [
    {
     "data": {
      "text/plain": [
       "array([[ 3.28383591e+00,  0.00000000e+00,  0.00000000e+00,\n",
       "        -9.74047382e-02,  2.43199616e+00,  2.87776781e+00,\n",
       "        -5.15026203e-02,  6.34679145e-02, -1.06106077e-01,\n",
       "         9.91887362e-01],\n",
       "       [ 5.46978559e-01,  0.00000000e+00,  0.00000000e+00,\n",
       "        -5.63734644e-01,  3.87188179e-01, -2.90955285e-01,\n",
       "        -5.15026203e-02,  6.34679145e-02, -1.06106077e-01,\n",
       "         8.59420139e-01],\n",
       "       [ 1.95221041e-01,  0.00000000e+00,  0.00000000e+00,\n",
       "         1.30239556e-01, -3.43985586e-01, -2.90955285e-01,\n",
       "        -5.15026203e-02,  6.34679145e-02, -1.06106077e-01,\n",
       "         5.88464454e-01],\n",
       "       [ 5.44595314e-01,  0.00000000e+00,  0.00000000e+00,\n",
       "        -4.01350614e-04,  7.73687870e-02, -2.90955285e-01,\n",
       "        -5.15026203e-02,  6.34679145e-02, -1.06106077e-01,\n",
       "         8.71462614e-01],\n",
       "       [ 4.65686374e-01,  0.00000000e+00,  0.00000000e+00,\n",
       "        -5.40180963e-01,  2.26082095e-01, -2.90955285e-01,\n",
       "        -5.15026203e-02,  6.34679145e-02, -1.06106077e-01,\n",
       "         8.32324570e-01]])"
      ]
     },
     "execution_count": 34,
     "metadata": {},
     "output_type": "execute_result"
    }
   ],
   "source": [
    "XX[0:5]"
   ]
  },
  {
   "cell_type": "markdown",
   "metadata": {},
   "source": [
    "Test the logistic regression on the whole dataset."
   ]
  },
  {
   "cell_type": "code",
   "execution_count": 35,
   "metadata": {},
   "outputs": [
    {
     "name": "stdout",
     "output_type": "stream",
     "text": [
      "Optimization terminated successfully.\n",
      "         Current function value: 0.692296\n",
      "         Iterations 4\n"
     ]
    },
    {
     "ename": "LinAlgError",
     "evalue": "Singular matrix",
     "output_type": "error",
     "traceback": [
      "\u001b[1;31m---------------------------------------------------------------------------\u001b[0m",
      "\u001b[1;31mLinAlgError\u001b[0m                               Traceback (most recent call last)",
      "\u001b[1;32mz:\\Dan\\Code\\Seismic\\Bad_Channels_Logistic_Regression.ipynb Cell 51'\u001b[0m in \u001b[0;36m<cell line: 3>\u001b[1;34m()\u001b[0m\n\u001b[0;32m      <a href='vscode-notebook-cell:/z%3A/Dan/Code/Seismic/Bad_Channels_Logistic_Regression.ipynb#ch0000034?line=0'>1</a>\u001b[0m \u001b[39mimport\u001b[39;00m \u001b[39mstatsmodels\u001b[39;00m\u001b[39m.\u001b[39;00m\u001b[39mapi\u001b[39;00m \u001b[39mas\u001b[39;00m \u001b[39msm\u001b[39;00m\n\u001b[0;32m      <a href='vscode-notebook-cell:/z%3A/Dan/Code/Seismic/Bad_Channels_Logistic_Regression.ipynb#ch0000034?line=1'>2</a>\u001b[0m logit_model\u001b[39m=\u001b[39msm\u001b[39m.\u001b[39mLogit(yy,XX)\n\u001b[1;32m----> <a href='vscode-notebook-cell:/z%3A/Dan/Code/Seismic/Bad_Channels_Logistic_Regression.ipynb#ch0000034?line=2'>3</a>\u001b[0m result\u001b[39m=\u001b[39mlogit_model\u001b[39m.\u001b[39;49mfit()\n\u001b[0;32m      <a href='vscode-notebook-cell:/z%3A/Dan/Code/Seismic/Bad_Channels_Logistic_Regression.ipynb#ch0000034?line=3'>4</a>\u001b[0m \u001b[39mprint\u001b[39m(result\u001b[39m.\u001b[39msummary2())\n",
      "File \u001b[1;32mc:\\Users\\sirproc\\Anaconda3\\envs\\data_science\\lib\\site-packages\\statsmodels\\discrete\\discrete_model.py:1983\u001b[0m, in \u001b[0;36mLogit.fit\u001b[1;34m(self, start_params, method, maxiter, full_output, disp, callback, **kwargs)\u001b[0m\n\u001b[0;32m   <a href='file:///c%3A/Users/sirproc/Anaconda3/envs/data_science/lib/site-packages/statsmodels/discrete/discrete_model.py?line=1979'>1980</a>\u001b[0m \u001b[39m@Appender\u001b[39m(DiscreteModel\u001b[39m.\u001b[39mfit\u001b[39m.\u001b[39m\u001b[39m__doc__\u001b[39m)\n\u001b[0;32m   <a href='file:///c%3A/Users/sirproc/Anaconda3/envs/data_science/lib/site-packages/statsmodels/discrete/discrete_model.py?line=1980'>1981</a>\u001b[0m \u001b[39mdef\u001b[39;00m \u001b[39mfit\u001b[39m(\u001b[39mself\u001b[39m, start_params\u001b[39m=\u001b[39m\u001b[39mNone\u001b[39;00m, method\u001b[39m=\u001b[39m\u001b[39m'\u001b[39m\u001b[39mnewton\u001b[39m\u001b[39m'\u001b[39m, maxiter\u001b[39m=\u001b[39m\u001b[39m35\u001b[39m,\n\u001b[0;32m   <a href='file:///c%3A/Users/sirproc/Anaconda3/envs/data_science/lib/site-packages/statsmodels/discrete/discrete_model.py?line=1981'>1982</a>\u001b[0m         full_output\u001b[39m=\u001b[39m\u001b[39m1\u001b[39m, disp\u001b[39m=\u001b[39m\u001b[39m1\u001b[39m, callback\u001b[39m=\u001b[39m\u001b[39mNone\u001b[39;00m, \u001b[39m*\u001b[39m\u001b[39m*\u001b[39mkwargs):\n\u001b[1;32m-> <a href='file:///c%3A/Users/sirproc/Anaconda3/envs/data_science/lib/site-packages/statsmodels/discrete/discrete_model.py?line=1982'>1983</a>\u001b[0m     bnryfit \u001b[39m=\u001b[39m \u001b[39msuper\u001b[39m()\u001b[39m.\u001b[39mfit(start_params\u001b[39m=\u001b[39mstart_params,\n\u001b[0;32m   <a href='file:///c%3A/Users/sirproc/Anaconda3/envs/data_science/lib/site-packages/statsmodels/discrete/discrete_model.py?line=1983'>1984</a>\u001b[0m                           method\u001b[39m=\u001b[39mmethod,\n\u001b[0;32m   <a href='file:///c%3A/Users/sirproc/Anaconda3/envs/data_science/lib/site-packages/statsmodels/discrete/discrete_model.py?line=1984'>1985</a>\u001b[0m                           maxiter\u001b[39m=\u001b[39mmaxiter,\n\u001b[0;32m   <a href='file:///c%3A/Users/sirproc/Anaconda3/envs/data_science/lib/site-packages/statsmodels/discrete/discrete_model.py?line=1985'>1986</a>\u001b[0m                           full_output\u001b[39m=\u001b[39mfull_output,\n\u001b[0;32m   <a href='file:///c%3A/Users/sirproc/Anaconda3/envs/data_science/lib/site-packages/statsmodels/discrete/discrete_model.py?line=1986'>1987</a>\u001b[0m                           disp\u001b[39m=\u001b[39mdisp,\n\u001b[0;32m   <a href='file:///c%3A/Users/sirproc/Anaconda3/envs/data_science/lib/site-packages/statsmodels/discrete/discrete_model.py?line=1987'>1988</a>\u001b[0m                           callback\u001b[39m=\u001b[39mcallback,\n\u001b[0;32m   <a href='file:///c%3A/Users/sirproc/Anaconda3/envs/data_science/lib/site-packages/statsmodels/discrete/discrete_model.py?line=1988'>1989</a>\u001b[0m                           \u001b[39m*\u001b[39m\u001b[39m*\u001b[39mkwargs)\n\u001b[0;32m   <a href='file:///c%3A/Users/sirproc/Anaconda3/envs/data_science/lib/site-packages/statsmodels/discrete/discrete_model.py?line=1990'>1991</a>\u001b[0m     discretefit \u001b[39m=\u001b[39m LogitResults(\u001b[39mself\u001b[39m, bnryfit)\n\u001b[0;32m   <a href='file:///c%3A/Users/sirproc/Anaconda3/envs/data_science/lib/site-packages/statsmodels/discrete/discrete_model.py?line=1991'>1992</a>\u001b[0m     \u001b[39mreturn\u001b[39;00m BinaryResultsWrapper(discretefit)\n",
      "File \u001b[1;32mc:\\Users\\sirproc\\Anaconda3\\envs\\data_science\\lib\\site-packages\\statsmodels\\discrete\\discrete_model.py:230\u001b[0m, in \u001b[0;36mDiscreteModel.fit\u001b[1;34m(self, start_params, method, maxiter, full_output, disp, callback, **kwargs)\u001b[0m\n\u001b[0;32m    <a href='file:///c%3A/Users/sirproc/Anaconda3/envs/data_science/lib/site-packages/statsmodels/discrete/discrete_model.py?line=226'>227</a>\u001b[0m \u001b[39melse\u001b[39;00m:\n\u001b[0;32m    <a href='file:///c%3A/Users/sirproc/Anaconda3/envs/data_science/lib/site-packages/statsmodels/discrete/discrete_model.py?line=227'>228</a>\u001b[0m     \u001b[39mpass\u001b[39;00m  \u001b[39m# TODO: make a function factory to have multiple call-backs\u001b[39;00m\n\u001b[1;32m--> <a href='file:///c%3A/Users/sirproc/Anaconda3/envs/data_science/lib/site-packages/statsmodels/discrete/discrete_model.py?line=229'>230</a>\u001b[0m mlefit \u001b[39m=\u001b[39m \u001b[39msuper\u001b[39m()\u001b[39m.\u001b[39mfit(start_params\u001b[39m=\u001b[39mstart_params,\n\u001b[0;32m    <a href='file:///c%3A/Users/sirproc/Anaconda3/envs/data_science/lib/site-packages/statsmodels/discrete/discrete_model.py?line=230'>231</a>\u001b[0m                      method\u001b[39m=\u001b[39mmethod,\n\u001b[0;32m    <a href='file:///c%3A/Users/sirproc/Anaconda3/envs/data_science/lib/site-packages/statsmodels/discrete/discrete_model.py?line=231'>232</a>\u001b[0m                      maxiter\u001b[39m=\u001b[39mmaxiter,\n\u001b[0;32m    <a href='file:///c%3A/Users/sirproc/Anaconda3/envs/data_science/lib/site-packages/statsmodels/discrete/discrete_model.py?line=232'>233</a>\u001b[0m                      full_output\u001b[39m=\u001b[39mfull_output,\n\u001b[0;32m    <a href='file:///c%3A/Users/sirproc/Anaconda3/envs/data_science/lib/site-packages/statsmodels/discrete/discrete_model.py?line=233'>234</a>\u001b[0m                      disp\u001b[39m=\u001b[39mdisp,\n\u001b[0;32m    <a href='file:///c%3A/Users/sirproc/Anaconda3/envs/data_science/lib/site-packages/statsmodels/discrete/discrete_model.py?line=234'>235</a>\u001b[0m                      callback\u001b[39m=\u001b[39mcallback,\n\u001b[0;32m    <a href='file:///c%3A/Users/sirproc/Anaconda3/envs/data_science/lib/site-packages/statsmodels/discrete/discrete_model.py?line=235'>236</a>\u001b[0m                      \u001b[39m*\u001b[39m\u001b[39m*\u001b[39mkwargs)\n\u001b[0;32m    <a href='file:///c%3A/Users/sirproc/Anaconda3/envs/data_science/lib/site-packages/statsmodels/discrete/discrete_model.py?line=237'>238</a>\u001b[0m \u001b[39mreturn\u001b[39;00m mlefit\n",
      "File \u001b[1;32mc:\\Users\\sirproc\\Anaconda3\\envs\\data_science\\lib\\site-packages\\statsmodels\\base\\model.py:579\u001b[0m, in \u001b[0;36mLikelihoodModel.fit\u001b[1;34m(self, start_params, method, maxiter, full_output, disp, fargs, callback, retall, skip_hessian, **kwargs)\u001b[0m\n\u001b[0;32m    <a href='file:///c%3A/Users/sirproc/Anaconda3/envs/data_science/lib/site-packages/statsmodels/base/model.py?line=576'>577</a>\u001b[0m     Hinv \u001b[39m=\u001b[39m cov_params_func(\u001b[39mself\u001b[39m, xopt, retvals)\n\u001b[0;32m    <a href='file:///c%3A/Users/sirproc/Anaconda3/envs/data_science/lib/site-packages/statsmodels/base/model.py?line=577'>578</a>\u001b[0m \u001b[39melif\u001b[39;00m method \u001b[39m==\u001b[39m \u001b[39m'\u001b[39m\u001b[39mnewton\u001b[39m\u001b[39m'\u001b[39m \u001b[39mand\u001b[39;00m full_output:\n\u001b[1;32m--> <a href='file:///c%3A/Users/sirproc/Anaconda3/envs/data_science/lib/site-packages/statsmodels/base/model.py?line=578'>579</a>\u001b[0m     Hinv \u001b[39m=\u001b[39m np\u001b[39m.\u001b[39;49mlinalg\u001b[39m.\u001b[39;49minv(\u001b[39m-\u001b[39;49mretvals[\u001b[39m'\u001b[39;49m\u001b[39mHessian\u001b[39;49m\u001b[39m'\u001b[39;49m]) \u001b[39m/\u001b[39m nobs\n\u001b[0;32m    <a href='file:///c%3A/Users/sirproc/Anaconda3/envs/data_science/lib/site-packages/statsmodels/base/model.py?line=579'>580</a>\u001b[0m \u001b[39melif\u001b[39;00m \u001b[39mnot\u001b[39;00m skip_hessian:\n\u001b[0;32m    <a href='file:///c%3A/Users/sirproc/Anaconda3/envs/data_science/lib/site-packages/statsmodels/base/model.py?line=580'>581</a>\u001b[0m     H \u001b[39m=\u001b[39m \u001b[39m-\u001b[39m\u001b[39m1\u001b[39m \u001b[39m*\u001b[39m \u001b[39mself\u001b[39m\u001b[39m.\u001b[39mhessian(xopt)\n",
      "File \u001b[1;32m<__array_function__ internals>:180\u001b[0m, in \u001b[0;36minv\u001b[1;34m(*args, **kwargs)\u001b[0m\n",
      "File \u001b[1;32mc:\\Users\\sirproc\\Anaconda3\\envs\\data_science\\lib\\site-packages\\numpy\\linalg\\linalg.py:545\u001b[0m, in \u001b[0;36minv\u001b[1;34m(a)\u001b[0m\n\u001b[0;32m    <a href='file:///c%3A/Users/sirproc/Anaconda3/envs/data_science/lib/site-packages/numpy/linalg/linalg.py?line=542'>543</a>\u001b[0m signature \u001b[39m=\u001b[39m \u001b[39m'\u001b[39m\u001b[39mD->D\u001b[39m\u001b[39m'\u001b[39m \u001b[39mif\u001b[39;00m isComplexType(t) \u001b[39melse\u001b[39;00m \u001b[39m'\u001b[39m\u001b[39md->d\u001b[39m\u001b[39m'\u001b[39m\n\u001b[0;32m    <a href='file:///c%3A/Users/sirproc/Anaconda3/envs/data_science/lib/site-packages/numpy/linalg/linalg.py?line=543'>544</a>\u001b[0m extobj \u001b[39m=\u001b[39m get_linalg_error_extobj(_raise_linalgerror_singular)\n\u001b[1;32m--> <a href='file:///c%3A/Users/sirproc/Anaconda3/envs/data_science/lib/site-packages/numpy/linalg/linalg.py?line=544'>545</a>\u001b[0m ainv \u001b[39m=\u001b[39m _umath_linalg\u001b[39m.\u001b[39;49minv(a, signature\u001b[39m=\u001b[39;49msignature, extobj\u001b[39m=\u001b[39;49mextobj)\n\u001b[0;32m    <a href='file:///c%3A/Users/sirproc/Anaconda3/envs/data_science/lib/site-packages/numpy/linalg/linalg.py?line=545'>546</a>\u001b[0m \u001b[39mreturn\u001b[39;00m wrap(ainv\u001b[39m.\u001b[39mastype(result_t, copy\u001b[39m=\u001b[39m\u001b[39mFalse\u001b[39;00m))\n",
      "File \u001b[1;32mc:\\Users\\sirproc\\Anaconda3\\envs\\data_science\\lib\\site-packages\\numpy\\linalg\\linalg.py:88\u001b[0m, in \u001b[0;36m_raise_linalgerror_singular\u001b[1;34m(err, flag)\u001b[0m\n\u001b[0;32m     <a href='file:///c%3A/Users/sirproc/Anaconda3/envs/data_science/lib/site-packages/numpy/linalg/linalg.py?line=86'>87</a>\u001b[0m \u001b[39mdef\u001b[39;00m \u001b[39m_raise_linalgerror_singular\u001b[39m(err, flag):\n\u001b[1;32m---> <a href='file:///c%3A/Users/sirproc/Anaconda3/envs/data_science/lib/site-packages/numpy/linalg/linalg.py?line=87'>88</a>\u001b[0m     \u001b[39mraise\u001b[39;00m LinAlgError(\u001b[39m\"\u001b[39m\u001b[39mSingular matrix\u001b[39m\u001b[39m\"\u001b[39m)\n",
      "\u001b[1;31mLinAlgError\u001b[0m: Singular matrix"
     ]
    }
   ],
   "source": [
    "import statsmodels.api as sm\n",
    "logit_model=sm.Logit(yy,XX)\n",
    "result=logit_model.fit()\n",
    "print(result.summary2())"
   ]
  },
  {
   "cell_type": "markdown",
   "metadata": {},
   "source": [
    "We now split the data to see how it perform with the train/test."
   ]
  },
  {
   "cell_type": "code",
   "execution_count": 36,
   "metadata": {},
   "outputs": [],
   "source": [
    "from sklearn.linear_model import LogisticRegression\n",
    "from sklearn import metrics\n",
    "X_train, X_test, y_train, y_test = train_test_split(XX, yy, test_size=0.5, random_state=0)"
   ]
  },
  {
   "cell_type": "code",
   "execution_count": 37,
   "metadata": {},
   "outputs": [
    {
     "name": "stderr",
     "output_type": "stream",
     "text": [
      "c:\\Users\\sirproc\\Anaconda3\\envs\\data_science\\lib\\site-packages\\sklearn\\utils\\validation.py:1111: DataConversionWarning: A column-vector y was passed when a 1d array was expected. Please change the shape of y to (n_samples, ), for example using ravel().\n",
      "  y = column_or_1d(y, warn=True)\n"
     ]
    },
    {
     "data": {
      "text/html": [
       "<style>#sk-container-id-1 {color: black;background-color: white;}#sk-container-id-1 pre{padding: 0;}#sk-container-id-1 div.sk-toggleable {background-color: white;}#sk-container-id-1 label.sk-toggleable__label {cursor: pointer;display: block;width: 100%;margin-bottom: 0;padding: 0.3em;box-sizing: border-box;text-align: center;}#sk-container-id-1 label.sk-toggleable__label-arrow:before {content: \"▸\";float: left;margin-right: 0.25em;color: #696969;}#sk-container-id-1 label.sk-toggleable__label-arrow:hover:before {color: black;}#sk-container-id-1 div.sk-estimator:hover label.sk-toggleable__label-arrow:before {color: black;}#sk-container-id-1 div.sk-toggleable__content {max-height: 0;max-width: 0;overflow: hidden;text-align: left;background-color: #f0f8ff;}#sk-container-id-1 div.sk-toggleable__content pre {margin: 0.2em;color: black;border-radius: 0.25em;background-color: #f0f8ff;}#sk-container-id-1 input.sk-toggleable__control:checked~div.sk-toggleable__content {max-height: 200px;max-width: 100%;overflow: auto;}#sk-container-id-1 input.sk-toggleable__control:checked~label.sk-toggleable__label-arrow:before {content: \"▾\";}#sk-container-id-1 div.sk-estimator input.sk-toggleable__control:checked~label.sk-toggleable__label {background-color: #d4ebff;}#sk-container-id-1 div.sk-label input.sk-toggleable__control:checked~label.sk-toggleable__label {background-color: #d4ebff;}#sk-container-id-1 input.sk-hidden--visually {border: 0;clip: rect(1px 1px 1px 1px);clip: rect(1px, 1px, 1px, 1px);height: 1px;margin: -1px;overflow: hidden;padding: 0;position: absolute;width: 1px;}#sk-container-id-1 div.sk-estimator {font-family: monospace;background-color: #f0f8ff;border: 1px dotted black;border-radius: 0.25em;box-sizing: border-box;margin-bottom: 0.5em;}#sk-container-id-1 div.sk-estimator:hover {background-color: #d4ebff;}#sk-container-id-1 div.sk-parallel-item::after {content: \"\";width: 100%;border-bottom: 1px solid gray;flex-grow: 1;}#sk-container-id-1 div.sk-label:hover label.sk-toggleable__label {background-color: #d4ebff;}#sk-container-id-1 div.sk-serial::before {content: \"\";position: absolute;border-left: 1px solid gray;box-sizing: border-box;top: 0;bottom: 0;left: 50%;z-index: 0;}#sk-container-id-1 div.sk-serial {display: flex;flex-direction: column;align-items: center;background-color: white;padding-right: 0.2em;padding-left: 0.2em;position: relative;}#sk-container-id-1 div.sk-item {position: relative;z-index: 1;}#sk-container-id-1 div.sk-parallel {display: flex;align-items: stretch;justify-content: center;background-color: white;position: relative;}#sk-container-id-1 div.sk-item::before, #sk-container-id-1 div.sk-parallel-item::before {content: \"\";position: absolute;border-left: 1px solid gray;box-sizing: border-box;top: 0;bottom: 0;left: 50%;z-index: -1;}#sk-container-id-1 div.sk-parallel-item {display: flex;flex-direction: column;z-index: 1;position: relative;background-color: white;}#sk-container-id-1 div.sk-parallel-item:first-child::after {align-self: flex-end;width: 50%;}#sk-container-id-1 div.sk-parallel-item:last-child::after {align-self: flex-start;width: 50%;}#sk-container-id-1 div.sk-parallel-item:only-child::after {width: 0;}#sk-container-id-1 div.sk-dashed-wrapped {border: 1px dashed gray;margin: 0 0.4em 0.5em 0.4em;box-sizing: border-box;padding-bottom: 0.4em;background-color: white;}#sk-container-id-1 div.sk-label label {font-family: monospace;font-weight: bold;display: inline-block;line-height: 1.2em;}#sk-container-id-1 div.sk-label-container {text-align: center;}#sk-container-id-1 div.sk-container {/* jupyter's `normalize.less` sets `[hidden] { display: none; }` but bootstrap.min.css set `[hidden] { display: none !important; }` so we also need the `!important` here to be able to override the default hidden behavior on the sphinx rendered scikit-learn.org. See: https://github.com/scikit-learn/scikit-learn/issues/21755 */display: inline-block !important;position: relative;}#sk-container-id-1 div.sk-text-repr-fallback {display: none;}</style><div id=\"sk-container-id-1\" class=\"sk-top-container\"><div class=\"sk-text-repr-fallback\"><pre>LogisticRegression()</pre><b>In a Jupyter environment, please rerun this cell to show the HTML representation or trust the notebook. <br />On GitHub, the HTML representation is unable to render, please try loading this page with nbviewer.org.</b></div><div class=\"sk-container\" hidden><div class=\"sk-item\"><div class=\"sk-estimator sk-toggleable\"><input class=\"sk-toggleable__control sk-hidden--visually\" id=\"sk-estimator-id-1\" type=\"checkbox\" checked><label for=\"sk-estimator-id-1\" class=\"sk-toggleable__label sk-toggleable__label-arrow\">LogisticRegression</label><div class=\"sk-toggleable__content\"><pre>LogisticRegression()</pre></div></div></div></div></div>"
      ],
      "text/plain": [
       "LogisticRegression()"
      ]
     },
     "execution_count": 37,
     "metadata": {},
     "output_type": "execute_result"
    }
   ],
   "source": [
    "logreg = LogisticRegression()\n",
    "logreg.fit(X_train, y_train)"
   ]
  },
  {
   "cell_type": "code",
   "execution_count": 38,
   "metadata": {},
   "outputs": [
    {
     "name": "stdout",
     "output_type": "stream",
     "text": [
      "Accuracy of logistic regression classifier on test set: 0.99\n"
     ]
    }
   ],
   "source": [
    "y_pred = logreg.predict(X_test)\n",
    "print('Accuracy of logistic regression classifier on test set: {:.2f}'.format(logreg.score(X_test, y_test)))"
   ]
  },
  {
   "cell_type": "markdown",
   "metadata": {},
   "source": [
    "Now we examine the Confusion Matrix."
   ]
  },
  {
   "cell_type": "code",
   "execution_count": 40,
   "metadata": {},
   "outputs": [
    {
     "name": "stdout",
     "output_type": "stream",
     "text": [
      "[[4504    4]\n",
      " [  22    6]]\n"
     ]
    }
   ],
   "source": [
    "from sklearn.metrics import confusion_matrix\n",
    "confusion_matrix = confusion_matrix(y_test, y_pred)\n",
    "print(confusion_matrix)"
   ]
  },
  {
   "cell_type": "markdown",
   "metadata": {},
   "source": [
    "We now examine some key metrics to see if the model acts properly."
   ]
  },
  {
   "cell_type": "code",
   "execution_count": 41,
   "metadata": {},
   "outputs": [
    {
     "name": "stdout",
     "output_type": "stream",
     "text": [
      "              precision    recall  f1-score   support\n",
      "\n",
      "           0       1.00      1.00      1.00      4508\n",
      "           1       0.60      0.21      0.32        28\n",
      "\n",
      "    accuracy                           0.99      4536\n",
      "   macro avg       0.80      0.61      0.66      4536\n",
      "weighted avg       0.99      0.99      0.99      4536\n",
      "\n"
     ]
    }
   ],
   "source": [
    "from sklearn.metrics import classification_report\n",
    "print(classification_report(y_test, y_pred))"
   ]
  },
  {
   "cell_type": "markdown",
   "metadata": {},
   "source": [
    "Now we look at the Receiver Operating Characteristic (ROC) curve"
   ]
  },
  {
   "cell_type": "code",
   "execution_count": 42,
   "metadata": {},
   "outputs": [
    {
     "data": {
      "image/png": "[encoded data removed]",
      "text/plain": [
       "<Figure size 5040x1440 with 1 Axes>"
      ]
     },
     "metadata": {},
     "output_type": "display_data"
    }
   ],
   "source": [
    "from sklearn.metrics import roc_auc_score\n",
    "from sklearn.metrics import roc_curve\n",
    "logit_roc_auc = roc_auc_score(y_test, logreg.predict(X_test))\n",
    "fpr, tpr, thresholds = roc_curve(y_test, logreg.predict_proba(X_test)[:,1])\n",
    "plt.figure()\n",
    "plt.plot(fpr, tpr, label='Logistic Regression (area = %0.2f)' % logit_roc_auc)\n",
    "plt.plot([0, 1], [0, 1],'r--')\n",
    "plt.xlim([0.0, 1.0])\n",
    "plt.ylim([0.0, 1.05])\n",
    "plt.xlabel('False Positive Rate')\n",
    "plt.ylabel('True Positive Rate')\n",
    "plt.title('Receiver operating characteristic')\n",
    "plt.legend(loc=\"lower right\")\n",
    "plt.savefig('Log_ROC.png')\n",
    "plt.rcParams[\"figure.figsize\"] = (16,9)\n",
    "plt.show()"
   ]
  },
  {
   "cell_type": "markdown",
   "metadata": {},
   "source": [
    "Attempting to get the sequence and channel back to a dataframe."
   ]
  },
  {
   "cell_type": "code",
   "execution_count": 43,
   "metadata": {},
   "outputs": [],
   "source": [
    "fd=pd.DataFrame(y_pred)\n",
    "fd2=pd.DataFrame(y_test)"
   ]
  },
  {
   "cell_type": "code",
   "execution_count": 44,
   "metadata": {},
   "outputs": [
    {
     "data": {
      "text/html": [
       "<div>\n",
       "<style scoped>\n",
       "    .dataframe tbody tr th:only-of-type {\n",
       "        vertical-align: middle;\n",
       "    }\n",
       "\n",
       "    .dataframe tbody tr th {\n",
       "        vertical-align: top;\n",
       "    }\n",
       "\n",
       "    .dataframe thead th {\n",
       "        text-align: right;\n",
       "    }\n",
       "</style>\n",
       "<table border=\"1\" class=\"dataframe\">\n",
       "  <thead>\n",
       "    <tr style=\"text-align: right;\">\n",
       "      <th></th>\n",
       "      <th>0</th>\n",
       "    </tr>\n",
       "  </thead>\n",
       "  <tbody>\n",
       "    <tr>\n",
       "      <th>0</th>\n",
       "      <td>0</td>\n",
       "    </tr>\n",
       "    <tr>\n",
       "      <th>1</th>\n",
       "      <td>0</td>\n",
       "    </tr>\n",
       "    <tr>\n",
       "      <th>2</th>\n",
       "      <td>0</td>\n",
       "    </tr>\n",
       "    <tr>\n",
       "      <th>3</th>\n",
       "      <td>0</td>\n",
       "    </tr>\n",
       "    <tr>\n",
       "      <th>4</th>\n",
       "      <td>0</td>\n",
       "    </tr>\n",
       "  </tbody>\n",
       "</table>\n",
       "</div>"
      ],
      "text/plain": [
       "   0\n",
       "0  0\n",
       "1  0\n",
       "2  0\n",
       "3  0\n",
       "4  0"
      ]
     },
     "execution_count": 44,
     "metadata": {},
     "output_type": "execute_result"
    }
   ],
   "source": [
    "fd2.head()"
   ]
  },
  {
   "cell_type": "code",
   "execution_count": 45,
   "metadata": {},
   "outputs": [],
   "source": [
    "FD2=fd2.reset_index()\n",
    "FD2.set_axis(['index','FLAG_ORIG'],axis=1,inplace=True)"
   ]
  },
  {
   "cell_type": "code",
   "execution_count": 46,
   "metadata": {},
   "outputs": [],
   "source": [
    "merge=FD2.merge(fd,left_index=True, right_index=True)\n",
    "merge.set_axis(['index','FLAG_ORIG','PREDICT'],axis=1,inplace=True)"
   ]
  },
  {
   "cell_type": "code",
   "execution_count": 47,
   "metadata": {},
   "outputs": [
    {
     "data": {
      "text/html": [
       "<div>\n",
       "<style scoped>\n",
       "    .dataframe tbody tr th:only-of-type {\n",
       "        vertical-align: middle;\n",
       "    }\n",
       "\n",
       "    .dataframe tbody tr th {\n",
       "        vertical-align: top;\n",
       "    }\n",
       "\n",
       "    .dataframe thead th {\n",
       "        text-align: right;\n",
       "    }\n",
       "</style>\n",
       "<table border=\"1\" class=\"dataframe\">\n",
       "  <thead>\n",
       "    <tr style=\"text-align: right;\">\n",
       "      <th></th>\n",
       "      <th>index</th>\n",
       "      <th>FLAG_ORIG</th>\n",
       "      <th>PREDICT</th>\n",
       "    </tr>\n",
       "  </thead>\n",
       "  <tbody>\n",
       "    <tr>\n",
       "      <th>0</th>\n",
       "      <td>0</td>\n",
       "      <td>0</td>\n",
       "      <td>0</td>\n",
       "    </tr>\n",
       "    <tr>\n",
       "      <th>1</th>\n",
       "      <td>1</td>\n",
       "      <td>0</td>\n",
       "      <td>0</td>\n",
       "    </tr>\n",
       "    <tr>\n",
       "      <th>2</th>\n",
       "      <td>2</td>\n",
       "      <td>0</td>\n",
       "      <td>1</td>\n",
       "    </tr>\n",
       "    <tr>\n",
       "      <th>3</th>\n",
       "      <td>3</td>\n",
       "      <td>0</td>\n",
       "      <td>0</td>\n",
       "    </tr>\n",
       "    <tr>\n",
       "      <th>4</th>\n",
       "      <td>4</td>\n",
       "      <td>0</td>\n",
       "      <td>0</td>\n",
       "    </tr>\n",
       "  </tbody>\n",
       "</table>\n",
       "</div>"
      ],
      "text/plain": [
       "   index  FLAG_ORIG  PREDICT\n",
       "0      0          0        0\n",
       "1      1          0        0\n",
       "2      2          0        1\n",
       "3      3          0        0\n",
       "4      4          0        0"
      ]
     },
     "execution_count": 47,
     "metadata": {},
     "output_type": "execute_result"
    }
   ],
   "source": [
    "merge.head()"
   ]
  },
  {
   "cell_type": "markdown",
   "metadata": {},
   "source": [
    "We create a header to spot the different predictions."
   ]
  },
  {
   "cell_type": "code",
   "execution_count": 48,
   "metadata": {},
   "outputs": [],
   "source": [
    "merge['DIFF']=merge['FLAG_ORIG']-merge['PREDICT']"
   ]
  },
  {
   "cell_type": "code",
   "execution_count": 49,
   "metadata": {},
   "outputs": [
    {
     "data": {
      "text/plain": [
       "0       False\n",
       "1       False\n",
       "2        True\n",
       "3       False\n",
       "4       False\n",
       "        ...  \n",
       "4531    False\n",
       "4532    False\n",
       "4533    False\n",
       "4534    False\n",
       "4535    False\n",
       "Name: DIFF, Length: 4536, dtype: bool"
      ]
     },
     "execution_count": 49,
     "metadata": {},
     "output_type": "execute_result"
    }
   ],
   "source": [
    "finder=merge['DIFF']!=0\n",
    "finder"
   ]
  },
  {
   "cell_type": "markdown",
   "metadata": {},
   "source": [
    "We check what has been predicted different from the test data."
   ]
  },
  {
   "cell_type": "code",
   "execution_count": 50,
   "metadata": {},
   "outputs": [
    {
     "name": "stdout",
     "output_type": "stream",
     "text": [
      "index        2\n",
      "FLAG_ORIG    0\n",
      "PREDICT      1\n",
      "DIFF        -1\n",
      "Name: 2, dtype: int64\n",
      "index        386\n",
      "FLAG_ORIG      1\n",
      "PREDICT        0\n",
      "DIFF           1\n",
      "Name: 386, dtype: int64\n",
      "index        490\n",
      "FLAG_ORIG      0\n",
      "PREDICT        1\n",
      "DIFF          -1\n",
      "Name: 490, dtype: int64\n",
      "index        546\n",
      "FLAG_ORIG      1\n",
      "PREDICT        0\n",
      "DIFF           1\n",
      "Name: 546, dtype: int64\n",
      "index        644\n",
      "FLAG_ORIG      1\n",
      "PREDICT        0\n",
      "DIFF           1\n",
      "Name: 644, dtype: int64\n",
      "index        705\n",
      "FLAG_ORIG      1\n",
      "PREDICT        0\n",
      "DIFF           1\n",
      "Name: 705, dtype: int64\n",
      "index        1213\n",
      "FLAG_ORIG       1\n",
      "PREDICT         0\n",
      "DIFF            1\n",
      "Name: 1213, dtype: int64\n",
      "index        1309\n",
      "FLAG_ORIG       1\n",
      "PREDICT         0\n",
      "DIFF            1\n",
      "Name: 1309, dtype: int64\n",
      "index        1405\n",
      "FLAG_ORIG       1\n",
      "PREDICT         0\n",
      "DIFF            1\n",
      "Name: 1405, dtype: int64\n",
      "index        1453\n",
      "FLAG_ORIG       1\n",
      "PREDICT         0\n",
      "DIFF            1\n",
      "Name: 1453, dtype: int64\n",
      "index        1483\n",
      "FLAG_ORIG       1\n",
      "PREDICT         0\n",
      "DIFF            1\n",
      "Name: 1483, dtype: int64\n",
      "index        1593\n",
      "FLAG_ORIG       1\n",
      "PREDICT         0\n",
      "DIFF            1\n",
      "Name: 1593, dtype: int64\n",
      "index        1818\n",
      "FLAG_ORIG       1\n",
      "PREDICT         0\n",
      "DIFF            1\n",
      "Name: 1818, dtype: int64\n",
      "index        2221\n",
      "FLAG_ORIG       1\n",
      "PREDICT         0\n",
      "DIFF            1\n",
      "Name: 2221, dtype: int64\n",
      "index        2439\n",
      "FLAG_ORIG       1\n",
      "PREDICT         0\n",
      "DIFF            1\n",
      "Name: 2439, dtype: int64\n",
      "index        2507\n",
      "FLAG_ORIG       1\n",
      "PREDICT         0\n",
      "DIFF            1\n",
      "Name: 2507, dtype: int64\n",
      "index        2715\n",
      "FLAG_ORIG       1\n",
      "PREDICT         0\n",
      "DIFF            1\n",
      "Name: 2715, dtype: int64\n",
      "index        3247\n",
      "FLAG_ORIG       1\n",
      "PREDICT         0\n",
      "DIFF            1\n",
      "Name: 3247, dtype: int64\n",
      "index        3273\n",
      "FLAG_ORIG       1\n",
      "PREDICT         0\n",
      "DIFF            1\n",
      "Name: 3273, dtype: int64\n",
      "index        3319\n",
      "FLAG_ORIG       1\n",
      "PREDICT         0\n",
      "DIFF            1\n",
      "Name: 3319, dtype: int64\n",
      "index        3396\n",
      "FLAG_ORIG       0\n",
      "PREDICT         1\n",
      "DIFF           -1\n",
      "Name: 3396, dtype: int64\n",
      "index        3777\n",
      "FLAG_ORIG       1\n",
      "PREDICT         0\n",
      "DIFF            1\n",
      "Name: 3777, dtype: int64\n",
      "index        4114\n",
      "FLAG_ORIG       1\n",
      "PREDICT         0\n",
      "DIFF            1\n",
      "Name: 4114, dtype: int64\n",
      "index        4124\n",
      "FLAG_ORIG       1\n",
      "PREDICT         0\n",
      "DIFF            1\n",
      "Name: 4124, dtype: int64\n",
      "index        4178\n",
      "FLAG_ORIG       1\n",
      "PREDICT         0\n",
      "DIFF            1\n",
      "Name: 4178, dtype: int64\n",
      "index        4393\n",
      "FLAG_ORIG       0\n",
      "PREDICT         1\n",
      "DIFF           -1\n",
      "Name: 4393, dtype: int64\n"
     ]
    }
   ],
   "source": [
    "for i,x in merge.iterrows():\n",
    "    if x['DIFF']!=0:\n",
    "        print(x)"
   ]
  },
  {
   "cell_type": "code",
   "execution_count": 51,
   "metadata": {},
   "outputs": [],
   "source": [
    "X1_train, X1_test, y1_train, y1_test = train_test_split(df1, df1, test_size=0.5, random_state=0)"
   ]
  },
  {
   "cell_type": "code",
   "execution_count": 52,
   "metadata": {},
   "outputs": [],
   "source": [
    "FD3=y1_test.reset_index()\n",
    "newtest=pd.merge(FD3,merge)"
   ]
  },
  {
   "cell_type": "code",
   "execution_count": 53,
   "metadata": {},
   "outputs": [
    {
     "data": {
      "text/html": [
       "<div>\n",
       "<style scoped>\n",
       "    .dataframe tbody tr th:only-of-type {\n",
       "        vertical-align: middle;\n",
       "    }\n",
       "\n",
       "    .dataframe tbody tr th {\n",
       "        vertical-align: top;\n",
       "    }\n",
       "\n",
       "    .dataframe thead th {\n",
       "        text-align: right;\n",
       "    }\n",
       "</style>\n",
       "<table border=\"1\" class=\"dataframe\">\n",
       "  <thead>\n",
       "    <tr style=\"text-align: right;\">\n",
       "      <th></th>\n",
       "      <th>index</th>\n",
       "      <th>SEQ</th>\n",
       "      <th>CHANNEL</th>\n",
       "      <th>DEEP_RMS_x</th>\n",
       "      <th>BAD_CHAN_FLAG</th>\n",
       "      <th>CAP_CUT_ERR</th>\n",
       "      <th>CAP_ERR</th>\n",
       "      <th>CAP_VAL</th>\n",
       "      <th>DEEP_RMS_y</th>\n",
       "      <th>DEVICE</th>\n",
       "      <th>LEAK_ERR</th>\n",
       "      <th>LEAK_VAL</th>\n",
       "      <th>MARG_CHAN_FLAG</th>\n",
       "      <th>SENS</th>\n",
       "      <th>FLAG_ORIG</th>\n",
       "      <th>PREDICT</th>\n",
       "      <th>DIFF</th>\n",
       "    </tr>\n",
       "  </thead>\n",
       "  <tbody>\n",
       "    <tr>\n",
       "      <th>0</th>\n",
       "      <td>247</td>\n",
       "      <td>1</td>\n",
       "      <td>248</td>\n",
       "      <td>2.415203</td>\n",
       "      <td>0</td>\n",
       "      <td>0</td>\n",
       "      <td>0</td>\n",
       "      <td>244.630630</td>\n",
       "      <td>8.29</td>\n",
       "      <td>0</td>\n",
       "      <td>0</td>\n",
       "      <td>5.0</td>\n",
       "      <td>0</td>\n",
       "      <td>31.94</td>\n",
       "      <td>0</td>\n",
       "      <td>0</td>\n",
       "      <td>0</td>\n",
       "    </tr>\n",
       "    <tr>\n",
       "      <th>1</th>\n",
       "      <td>1972</td>\n",
       "      <td>1</td>\n",
       "      <td>1973</td>\n",
       "      <td>1.955668</td>\n",
       "      <td>0</td>\n",
       "      <td>0</td>\n",
       "      <td>0</td>\n",
       "      <td>232.870605</td>\n",
       "      <td>7.63</td>\n",
       "      <td>0</td>\n",
       "      <td>0</td>\n",
       "      <td>5.0</td>\n",
       "      <td>0</td>\n",
       "      <td>32.48</td>\n",
       "      <td>0</td>\n",
       "      <td>0</td>\n",
       "      <td>0</td>\n",
       "    </tr>\n",
       "    <tr>\n",
       "      <th>2</th>\n",
       "      <td>1829</td>\n",
       "      <td>1</td>\n",
       "      <td>1830</td>\n",
       "      <td>0.956624</td>\n",
       "      <td>0</td>\n",
       "      <td>0</td>\n",
       "      <td>0</td>\n",
       "      <td>232.227005</td>\n",
       "      <td>4.51</td>\n",
       "      <td>0</td>\n",
       "      <td>0</td>\n",
       "      <td>5.0</td>\n",
       "      <td>0</td>\n",
       "      <td>22.92</td>\n",
       "      <td>0</td>\n",
       "      <td>0</td>\n",
       "      <td>0</td>\n",
       "    </tr>\n",
       "    <tr>\n",
       "      <th>3</th>\n",
       "      <td>154</td>\n",
       "      <td>1</td>\n",
       "      <td>155</td>\n",
       "      <td>1.543170</td>\n",
       "      <td>0</td>\n",
       "      <td>0</td>\n",
       "      <td>0</td>\n",
       "      <td>242.414124</td>\n",
       "      <td>5.47</td>\n",
       "      <td>0</td>\n",
       "      <td>0</td>\n",
       "      <td>5.0</td>\n",
       "      <td>0</td>\n",
       "      <td>30.08</td>\n",
       "      <td>0</td>\n",
       "      <td>0</td>\n",
       "      <td>0</td>\n",
       "    </tr>\n",
       "    <tr>\n",
       "      <th>4</th>\n",
       "      <td>1278</td>\n",
       "      <td>1</td>\n",
       "      <td>1279</td>\n",
       "      <td>0.922203</td>\n",
       "      <td>0</td>\n",
       "      <td>0</td>\n",
       "      <td>0</td>\n",
       "      <td>236.883118</td>\n",
       "      <td>3.54</td>\n",
       "      <td>0</td>\n",
       "      <td>0</td>\n",
       "      <td>5.0</td>\n",
       "      <td>0</td>\n",
       "      <td>22.35</td>\n",
       "      <td>0</td>\n",
       "      <td>0</td>\n",
       "      <td>0</td>\n",
       "    </tr>\n",
       "  </tbody>\n",
       "</table>\n",
       "</div>"
      ],
      "text/plain": [
       "   index  SEQ  CHANNEL  DEEP_RMS_x  BAD_CHAN_FLAG  CAP_CUT_ERR  CAP_ERR  \\\n",
       "0    247    1      248    2.415203              0            0        0   \n",
       "1   1972    1     1973    1.955668              0            0        0   \n",
       "2   1829    1     1830    0.956624              0            0        0   \n",
       "3    154    1      155    1.543170              0            0        0   \n",
       "4   1278    1     1279    0.922203              0            0        0   \n",
       "\n",
       "      CAP_VAL  DEEP_RMS_y  DEVICE  LEAK_ERR  LEAK_VAL  MARG_CHAN_FLAG   SENS  \\\n",
       "0  244.630630        8.29       0         0       5.0               0  31.94   \n",
       "1  232.870605        7.63       0         0       5.0               0  32.48   \n",
       "2  232.227005        4.51       0         0       5.0               0  22.92   \n",
       "3  242.414124        5.47       0         0       5.0               0  30.08   \n",
       "4  236.883118        3.54       0         0       5.0               0  22.35   \n",
       "\n",
       "   FLAG_ORIG  PREDICT  DIFF  \n",
       "0          0        0     0  \n",
       "1          0        0     0  \n",
       "2          0        0     0  \n",
       "3          0        0     0  \n",
       "4          0        0     0  "
      ]
     },
     "execution_count": 53,
     "metadata": {},
     "output_type": "execute_result"
    }
   ],
   "source": [
    "newtest.head()"
   ]
  },
  {
   "cell_type": "code",
   "execution_count": 54,
   "metadata": {},
   "outputs": [
    {
     "name": "stdout",
     "output_type": "stream",
     "text": [
      "index             4393.000000\n",
      "SEQ                  1.000000\n",
      "CHANNEL           4394.000000\n",
      "DEEP_RMS_x           1.446176\n",
      "BAD_CHAN_FLAG        0.000000\n",
      "CAP_CUT_ERR          0.000000\n",
      "CAP_ERR              0.000000\n",
      "CAP_VAL            226.530472\n",
      "DEEP_RMS_y           5.140000\n",
      "DEVICE               0.000000\n",
      "LEAK_ERR             0.000000\n",
      "LEAK_VAL             5.000000\n",
      "MARG_CHAN_FLAG       0.000000\n",
      "SENS                23.550000\n",
      "FLAG_ORIG            0.000000\n",
      "PREDICT              1.000000\n",
      "DIFF                -1.000000\n",
      "Name: 86, dtype: float64\n",
      "index             2272.000000\n",
      "SEQ                  1.000000\n",
      "CHANNEL           2273.000000\n",
      "DEEP_RMS_x           2.109680\n",
      "BAD_CHAN_FLAG        0.000000\n",
      "CAP_CUT_ERR          0.000000\n",
      "CAP_ERR              0.000000\n",
      "CAP_VAL            247.254501\n",
      "DEEP_RMS_y           9.840000\n",
      "DEVICE               0.000000\n",
      "LEAK_ERR             0.000000\n",
      "LEAK_VAL             5.000000\n",
      "MARG_CHAN_FLAG       0.000000\n",
      "SENS                31.780000\n",
      "FLAG_ORIG            1.000000\n",
      "PREDICT              1.000000\n",
      "DIFF                 0.000000\n",
      "Name: 507, dtype: float64\n",
      "index             2866.000000\n",
      "SEQ                  1.000000\n",
      "CHANNEL           2867.000000\n",
      "DEEP_RMS_x           1.387511\n",
      "BAD_CHAN_FLAG        0.000000\n",
      "CAP_CUT_ERR          0.000000\n",
      "CAP_ERR              0.000000\n",
      "CAP_VAL            240.321045\n",
      "DEEP_RMS_y          10.050000\n",
      "DEVICE               0.000000\n",
      "LEAK_ERR             0.000000\n",
      "LEAK_VAL             5.000000\n",
      "MARG_CHAN_FLAG       0.000000\n",
      "SENS                33.050000\n",
      "FLAG_ORIG            1.000000\n",
      "PREDICT              1.000000\n",
      "DIFF                 0.000000\n",
      "Name: 1253, dtype: float64\n"
     ]
    }
   ],
   "source": [
    "for i,x in newtest.iterrows():\n",
    "    if x['PREDICT']>x['BAD_CHAN_FLAG']:\n",
    "        print(x)"
   ]
  },
  {
   "cell_type": "markdown",
   "metadata": {},
   "source": [
    "Now for comparison we look at a simple lr , lr L1 norm and lr L2 norm Logistic Regression"
   ]
  },
  {
   "cell_type": "code",
   "execution_count": 55,
   "metadata": {},
   "outputs": [
    {
     "name": "stderr",
     "output_type": "stream",
     "text": [
      "c:\\Users\\sirproc\\Anaconda3\\envs\\data_science\\lib\\site-packages\\sklearn\\utils\\validation.py:1111: DataConversionWarning: A column-vector y was passed when a 1d array was expected. Please change the shape of y to (n_samples, ), for example using ravel().\n",
      "  y = column_or_1d(y, warn=True)\n"
     ]
    }
   ],
   "source": [
    "# Standard logistic regression\n",
    "lr = LogisticRegression(solver='liblinear').fit(X_train, y_train)"
   ]
  },
  {
   "cell_type": "code",
   "execution_count": 57,
   "metadata": {},
   "outputs": [
    {
     "name": "stderr",
     "output_type": "stream",
     "text": [
      "c:\\Users\\sirproc\\Anaconda3\\envs\\data_science\\lib\\site-packages\\sklearn\\utils\\validation.py:1111: DataConversionWarning: A column-vector y was passed when a 1d array was expected. Please change the shape of y to (n_samples, ), for example using ravel().\n",
      "  y = column_or_1d(y, warn=True)\n"
     ]
    }
   ],
   "source": [
    "from sklearn.linear_model import LogisticRegressionCV\n",
    "# L1 regularized logistic regression\n",
    "lr_l1 = LogisticRegressionCV(Cs=10, cv=4, penalty='l1', solver='liblinear').fit(X_train, y_train)"
   ]
  },
  {
   "cell_type": "code",
   "execution_count": 58,
   "metadata": {},
   "outputs": [
    {
     "name": "stderr",
     "output_type": "stream",
     "text": [
      "c:\\Users\\sirproc\\Anaconda3\\envs\\data_science\\lib\\site-packages\\sklearn\\utils\\validation.py:1111: DataConversionWarning: A column-vector y was passed when a 1d array was expected. Please change the shape of y to (n_samples, ), for example using ravel().\n",
      "  y = column_or_1d(y, warn=True)\n"
     ]
    }
   ],
   "source": [
    "# L2 regularized logistic regression\n",
    "lr_l2 = LogisticRegressionCV(Cs=10, cv=4, penalty='l2', solver='liblinear').fit(X_train, y_train)"
   ]
  },
  {
   "cell_type": "code",
   "execution_count": 59,
   "metadata": {},
   "outputs": [
    {
     "data": {
      "text/html": [
       "<div>\n",
       "<style scoped>\n",
       "    .dataframe tbody tr th:only-of-type {\n",
       "        vertical-align: middle;\n",
       "    }\n",
       "\n",
       "    .dataframe tbody tr th {\n",
       "        vertical-align: top;\n",
       "    }\n",
       "\n",
       "    .dataframe thead th {\n",
       "        text-align: right;\n",
       "    }\n",
       "</style>\n",
       "<table border=\"1\" class=\"dataframe\">\n",
       "  <thead>\n",
       "    <tr style=\"text-align: right;\">\n",
       "      <th></th>\n",
       "      <th>lr</th>\n",
       "      <th>l1</th>\n",
       "      <th>l2</th>\n",
       "    </tr>\n",
       "  </thead>\n",
       "  <tbody>\n",
       "    <tr>\n",
       "      <th>0</th>\n",
       "      <td>0</td>\n",
       "      <td>0</td>\n",
       "      <td>0</td>\n",
       "    </tr>\n",
       "    <tr>\n",
       "      <th>1</th>\n",
       "      <td>0</td>\n",
       "      <td>0</td>\n",
       "      <td>0</td>\n",
       "    </tr>\n",
       "    <tr>\n",
       "      <th>2</th>\n",
       "      <td>1</td>\n",
       "      <td>0</td>\n",
       "      <td>0</td>\n",
       "    </tr>\n",
       "    <tr>\n",
       "      <th>3</th>\n",
       "      <td>0</td>\n",
       "      <td>0</td>\n",
       "      <td>0</td>\n",
       "    </tr>\n",
       "    <tr>\n",
       "      <th>4</th>\n",
       "      <td>0</td>\n",
       "      <td>0</td>\n",
       "      <td>0</td>\n",
       "    </tr>\n",
       "  </tbody>\n",
       "</table>\n",
       "</div>"
      ],
      "text/plain": [
       "   lr  l1  l2\n",
       "0   0   0   0\n",
       "1   0   0   0\n",
       "2   1   0   0\n",
       "3   0   0   0\n",
       "4   0   0   0"
      ]
     },
     "execution_count": 59,
     "metadata": {},
     "output_type": "execute_result"
    }
   ],
   "source": [
    "# Predict the class and the probability for each\n",
    "y_pred = list()\n",
    "y_prob = list()\n",
    "coeff_labels = ['lr', 'l1', 'l2']\n",
    "coeff_models = [lr, lr_l1, lr_l2]\n",
    "for lab,mod in zip(coeff_labels, coeff_models):\n",
    "    y_pred.append(pd.Series(mod.predict(X_test), name=lab))\n",
    "    y_prob.append(pd.Series(mod.predict_proba(X_test).max(axis=1), name=lab))\n",
    "y_pred = pd.concat(y_pred, axis=1)\n",
    "y_prob = pd.concat(y_prob, axis=1)\n",
    "\n",
    "y_pred.head()"
   ]
  },
  {
   "cell_type": "code",
   "execution_count": 60,
   "metadata": {},
   "outputs": [
    {
     "data": {
      "text/html": [
       "<div>\n",
       "<style scoped>\n",
       "    .dataframe tbody tr th:only-of-type {\n",
       "        vertical-align: middle;\n",
       "    }\n",
       "\n",
       "    .dataframe tbody tr th {\n",
       "        vertical-align: top;\n",
       "    }\n",
       "\n",
       "    .dataframe thead th {\n",
       "        text-align: right;\n",
       "    }\n",
       "</style>\n",
       "<table border=\"1\" class=\"dataframe\">\n",
       "  <thead>\n",
       "    <tr style=\"text-align: right;\">\n",
       "      <th></th>\n",
       "      <th>lr</th>\n",
       "      <th>l1</th>\n",
       "      <th>l2</th>\n",
       "    </tr>\n",
       "  </thead>\n",
       "  <tbody>\n",
       "    <tr>\n",
       "      <th>0</th>\n",
       "      <td>0.996878</td>\n",
       "      <td>0.5</td>\n",
       "      <td>0.980332</td>\n",
       "    </tr>\n",
       "    <tr>\n",
       "      <th>1</th>\n",
       "      <td>0.997633</td>\n",
       "      <td>0.5</td>\n",
       "      <td>0.985511</td>\n",
       "    </tr>\n",
       "    <tr>\n",
       "      <th>2</th>\n",
       "      <td>0.508511</td>\n",
       "      <td>0.5</td>\n",
       "      <td>0.783742</td>\n",
       "    </tr>\n",
       "    <tr>\n",
       "      <th>3</th>\n",
       "      <td>0.996893</td>\n",
       "      <td>0.5</td>\n",
       "      <td>0.979379</td>\n",
       "    </tr>\n",
       "    <tr>\n",
       "      <th>4</th>\n",
       "      <td>0.998146</td>\n",
       "      <td>0.5</td>\n",
       "      <td>0.985073</td>\n",
       "    </tr>\n",
       "  </tbody>\n",
       "</table>\n",
       "</div>"
      ],
      "text/plain": [
       "         lr   l1        l2\n",
       "0  0.996878  0.5  0.980332\n",
       "1  0.997633  0.5  0.985511\n",
       "2  0.508511  0.5  0.783742\n",
       "3  0.996893  0.5  0.979379\n",
       "4  0.998146  0.5  0.985073"
      ]
     },
     "execution_count": 60,
     "metadata": {},
     "output_type": "execute_result"
    }
   ],
   "source": [
    "y_prob.head()"
   ]
  },
  {
   "cell_type": "code",
   "execution_count": 61,
   "metadata": {},
   "outputs": [
    {
     "ename": "SyntaxError",
     "evalue": "invalid syntax (3685462447.py, line 10)",
     "output_type": "error",
     "traceback": [
      "\u001b[1;36m  Input \u001b[1;32mIn [61]\u001b[1;36m\u001b[0m\n\u001b[1;33m    accuracy = accuracy_score(y_test, y_pred[lab])\u001b[0m\n\u001b[1;37m    ^\u001b[0m\n\u001b[1;31mSyntaxError\u001b[0m\u001b[1;31m:\u001b[0m invalid syntax\n"
     ]
    }
   ],
   "source": [
    "from sklearn.metrics import precision_recall_fscore_support as score\n",
    "from sklearn.metrics import confusion_matrix, accuracy_score, roc_auc_score\n",
    "from sklearn.preprocessing import label_binarize\n",
    "\n",
    "metrics = list()\n",
    "cm = dict()\n",
    "\n",
    "for lab in coeff_labels:\n",
    "    \n",
    "    # Preciision, recall, f-score from the multi-class support function\n",
    "    precision, recall, fscore, _ = score(y_test, y_pred[lab], average='weighted'\n",
    "    \n",
    "    # The usual way to calculate accuracy\n",
    "    accuracy = accuracy_score(y_test, y_pred[lab])\n",
    "    \n",
    "    # ROC-AUC scores can be calculated by binarizing the data\n",
    "#   auc = roc_auc_score(label_binarize(y_test, classes=[0,1,2,3,4,5]),\n",
    "#       label_binarize(y_pred[lab], classes=[0,1,2,3,4,5]),\n",
    "#       average='weighted')\n",
    "    \n",
    "    # Last, the confusion matrix\n",
    "    cm[lab] = confusion_matrix(y_test, y_pred[lab])\n",
    "\n",
    "    metrics.append(pd.Series({'precision':precision, 'recall':recall,\n",
    "                                'fscore':fscore, 'accuracy':accuracy},\n",
    "#                                   auc':auc},\n",
    "                                name=lab))\n",
    "metrics = pd.concat(metrics, axis=1)"
   ]
  },
  {
   "cell_type": "markdown",
   "metadata": {},
   "source": [
    "Checking the results.."
   ]
  },
  {
   "cell_type": "code",
   "execution_count": 62,
   "metadata": {},
   "outputs": [
    {
     "data": {
      "text/plain": [
       "<module 'sklearn.metrics' from 'c:\\\\Users\\\\sirproc\\\\Anaconda3\\\\envs\\\\data_science\\\\lib\\\\site-packages\\\\sklearn\\\\metrics\\\\__init__.py'>"
      ]
     },
     "execution_count": 62,
     "metadata": {},
     "output_type": "execute_result"
    }
   ],
   "source": [
    "metrics"
   ]
  },
  {
   "cell_type": "markdown",
   "metadata": {},
   "source": [
    "Lastly, the three confusion matrices:"
   ]
  },
  {
   "cell_type": "code",
   "execution_count": 63,
   "metadata": {},
   "outputs": [
    {
     "ename": "NameError",
     "evalue": "name 'cm' is not defined",
     "output_type": "error",
     "traceback": [
      "\u001b[1;31m---------------------------------------------------------------------------\u001b[0m",
      "\u001b[1;31mNameError\u001b[0m                                 Traceback (most recent call last)",
      "\u001b[1;32mz:\\Dan\\Code\\Seismic\\Bad_Channels_Logistic_Regression.ipynb Cell 87'\u001b[0m in \u001b[0;36m<cell line: 7>\u001b[1;34m()\u001b[0m\n\u001b[0;32m      <a href='vscode-notebook-cell:/z%3A/Dan/Code/Seismic/Bad_Channels_Logistic_Regression.ipynb#ch0000058?line=4'>5</a>\u001b[0m axList[\u001b[39m-\u001b[39m\u001b[39m1\u001b[39m]\u001b[39m.\u001b[39maxis(\u001b[39m'\u001b[39m\u001b[39moff\u001b[39m\u001b[39m'\u001b[39m)\n\u001b[0;32m      <a href='vscode-notebook-cell:/z%3A/Dan/Code/Seismic/Bad_Channels_Logistic_Regression.ipynb#ch0000058?line=6'>7</a>\u001b[0m \u001b[39mfor\u001b[39;00m ax,lab \u001b[39min\u001b[39;00m \u001b[39mzip\u001b[39m(axList[:\u001b[39m-\u001b[39m\u001b[39m1\u001b[39m], coeff_labels):\n\u001b[1;32m----> <a href='vscode-notebook-cell:/z%3A/Dan/Code/Seismic/Bad_Channels_Logistic_Regression.ipynb#ch0000058?line=7'>8</a>\u001b[0m     sns\u001b[39m.\u001b[39mheatmap(cm[lab], ax\u001b[39m=\u001b[39max, annot\u001b[39m=\u001b[39m\u001b[39mTrue\u001b[39;00m, fmt\u001b[39m=\u001b[39m\u001b[39m'\u001b[39m\u001b[39md\u001b[39m\u001b[39m'\u001b[39m,cmap\u001b[39m=\u001b[39mcmap1);\n\u001b[0;32m      <a href='vscode-notebook-cell:/z%3A/Dan/Code/Seismic/Bad_Channels_Logistic_Regression.ipynb#ch0000058?line=8'>9</a>\u001b[0m     ax\u001b[39m.\u001b[39mset(title\u001b[39m=\u001b[39mlab);\n\u001b[0;32m     <a href='vscode-notebook-cell:/z%3A/Dan/Code/Seismic/Bad_Channels_Logistic_Regression.ipynb#ch0000058?line=10'>11</a>\u001b[0m plt\u001b[39m.\u001b[39mtight_layout()\n",
      "\u001b[1;31mNameError\u001b[0m: name 'cm' is not defined"
     ]
    },
    {
     "data": {
      "image/png": "[encoded data removed]",
      "text/plain": [
       "<Figure size 864x720 with 4 Axes>"
      ]
     },
     "metadata": {},
     "output_type": "display_data"
    }
   ],
   "source": [
    "fig, axList = plt.subplots(nrows=2, ncols=2)\n",
    "axList = axList.flatten()\n",
    "fig.set_size_inches(12, 10)\n",
    "\n",
    "axList[-1].axis('off')\n",
    "\n",
    "for ax,lab in zip(axList[:-1], coeff_labels):\n",
    "    sns.heatmap(cm[lab], ax=ax, annot=True, fmt='d',cmap=cmap1);\n",
    "    ax.set(title=lab);\n",
    "\n",
    "plt.tight_layout()"
   ]
  },
  {
   "cell_type": "markdown",
   "metadata": {},
   "source": [
    "**Conclsions**"
   ]
  },
  {
   "cell_type": "markdown",
   "metadata": {},
   "source": []
  }
 ],
 "metadata": {
  "interpreter": {
   "hash": "37e0769f8301bc1fd40520bc2e83c2f2ee17339fb59258be934dee8f147fee84"
  },
  "kernelspec": {
   "display_name": "Python 3.9.12 ('data_science')",
   "language": "python",
   "name": "python3"
  },
  "language_info": {
   "codemirror_mode": {
    "name": "ipython",
    "version": 3
   },
   "file_extension": ".py",
   "mimetype": "text/x-python",
   "name": "python",
   "nbconvert_exporter": "python",
   "pygments_lexer": "ipython3",
   "version": "3.9.12"
  },
  "orig_nbformat": 4
 },
 "nbformat": 4,
 "nbformat_minor": 2
}
